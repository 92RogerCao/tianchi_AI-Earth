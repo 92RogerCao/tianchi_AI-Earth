{
 "cells": [
  {
   "cell_type": "markdown",
   "metadata": {
    "papermill": {
     "duration": 0.043894,
     "end_time": "2021-11-10T09:14:57.523940",
     "exception": false,
     "start_time": "2021-11-10T09:14:57.480046",
     "status": "completed"
    },
    "tags": []
   },
   "source": [
    "# Datawhale 气象海洋预测-Task3 模型建立之 CNN+LSTM\n",
    "本次任务我们将学习来自TOP选手“学习AI的打工人”的建模方案，该方案中采用的模型是CNN+LSTM。\n",
    "\n",
    "在Task2的数据分析中我们发现，构建新的特征是很困难的，因此本赛题是一个模型问题，我们的主要目标是构造一个能够从小数据集中充分挖掘空间信息和时间信息的模型。那么，说到挖掘空间信息的模型，我们会很自然的想到CNN，同样的，挖掘时间信息的模型我们会很容易想到LSTM，我们本次学习的这个TOP方案正是构造了CNN+LSTM的串行结构。"
   ]
  },
  {
   "cell_type": "markdown",
   "metadata": {
    "papermill": {
     "duration": 0.04014,
     "end_time": "2021-11-10T09:14:57.605087",
     "exception": false,
     "start_time": "2021-11-10T09:14:57.564947",
     "status": "completed"
    },
    "tags": []
   },
   "source": [
    "## 学习目标\n",
    "1. 学习TOP方案的数据处理方法。\n",
    "2. 学习TOP方案的模型构建方法。"
   ]
  },
  {
   "cell_type": "markdown",
   "metadata": {
    "papermill": {
     "duration": 0.040277,
     "end_time": "2021-11-10T09:14:57.685242",
     "exception": false,
     "start_time": "2021-11-10T09:14:57.644965",
     "status": "completed"
    },
    "tags": []
   },
   "source": [
    "## 内容介绍\n",
    "1. 数据处理\n",
    "    - 增加月特征\n",
    "    - 数据扁平化\n",
    "    - 空值填充\n",
    "    - 构造数据集\n",
    "2. 模型构建\n",
    "    - 构造评估函数\n",
    "    - 模型构造与训练\n",
    "    - 模型评估\n",
    "3. 总结"
   ]
  },
  {
   "cell_type": "markdown",
   "metadata": {
    "papermill": {
     "duration": 0.041248,
     "end_time": "2021-11-10T09:14:57.766859",
     "exception": false,
     "start_time": "2021-11-10T09:14:57.725611",
     "status": "completed"
    },
    "tags": []
   },
   "source": [
    "## 代码示例"
   ]
  },
  {
   "cell_type": "markdown",
   "metadata": {
    "papermill": {
     "duration": 0.041028,
     "end_time": "2021-11-10T09:14:57.848372",
     "exception": false,
     "start_time": "2021-11-10T09:14:57.807344",
     "status": "completed"
    },
    "tags": []
   },
   "source": [
    "### 数据处理"
   ]
  },
  {
   "cell_type": "markdown",
   "metadata": {
    "papermill": {
     "duration": 0.041407,
     "end_time": "2021-11-10T09:14:57.930553",
     "exception": false,
     "start_time": "2021-11-10T09:14:57.889146",
     "status": "completed"
    },
    "tags": []
   },
   "source": [
    "该TOP方案的数据处理主要包括四部分：\n",
    "\n",
    "1. 增加月特征。将序列数据的起始月份作为新的特征。\n",
    "2. 数据扁平化。将序列数据按月拼接起来通过滑窗增加数据量。\n",
    "3. 空值填充。\n",
    "4. 构造数据集。随机采样构造数据集。"
   ]
  },
  {
   "cell_type": "code",
   "execution_count": 1,
   "metadata": {
    "execution": {
     "iopub.execute_input": "2021-11-10T09:14:58.216163Z",
     "iopub.status.busy": "2021-11-10T09:14:58.215195Z",
     "iopub.status.idle": "2021-11-10T09:15:03.590431Z",
     "shell.execute_reply": "2021-11-10T09:15:03.589683Z",
     "shell.execute_reply.started": "2021-11-10T08:55:36.925247Z"
    },
    "papermill": {
     "duration": 5.499137,
     "end_time": "2021-11-10T09:15:03.590597",
     "exception": false,
     "start_time": "2021-11-10T09:14:58.091460",
     "status": "completed"
    },
    "tags": []
   },
   "outputs": [],
   "source": [
    "import netCDF4 as nc\n",
    "import random\n",
    "import os\n",
    "from tqdm import tqdm\n",
    "import math\n",
    "import pandas as pd\n",
    "import numpy as np\n",
    "\n",
    "import seaborn as sns\n",
    "color = sns.color_palette()\n",
    "sns.set_style('darkgrid')\n",
    "import matplotlib.pyplot as plt\n",
    "%matplotlib inline\n",
    "\n",
    "import torch\n",
    "from torch import nn, optim\n",
    "import torch.nn.functional as F\n",
    "from torch.utils.data import Dataset, DataLoader\n",
    "\n",
    "from sklearn.metrics import mean_squared_error"
   ]
  },
  {
   "cell_type": "code",
   "execution_count": 2,
   "metadata": {
    "execution": {
     "iopub.execute_input": "2021-11-10T09:15:03.682821Z",
     "iopub.status.busy": "2021-11-10T09:15:03.682060Z",
     "iopub.status.idle": "2021-11-10T09:15:03.688267Z",
     "shell.execute_reply": "2021-11-10T09:15:03.688778Z",
     "shell.execute_reply.started": "2021-11-10T08:24:19.206477Z"
    },
    "papermill": {
     "duration": 0.055671,
     "end_time": "2021-11-10T09:15:03.688955",
     "exception": false,
     "start_time": "2021-11-10T09:15:03.633284",
     "status": "completed"
    },
    "tags": []
   },
   "outputs": [],
   "source": [
    "# 固定随机种子\n",
    "SEED = 22\n",
    "\n",
    "def seed_everything(seed=42):\n",
    "    random.seed(seed)\n",
    "    os.environ['PYTHONHASHSEED'] = str(seed)\n",
    "    np.random.seed(seed)\n",
    "    torch.manual_seed(seed)\n",
    "    torch.cuda.manual_seed(seed)\n",
    "    torch.backends.cudnn.deterministic = True\n",
    "    \n",
    "seed_everything(SEED)"
   ]
  },
  {
   "cell_type": "code",
   "execution_count": 3,
   "metadata": {
    "execution": {
     "iopub.execute_input": "2021-11-10T09:15:03.824679Z",
     "iopub.status.busy": "2021-11-10T09:15:03.824122Z",
     "iopub.status.idle": "2021-11-10T09:15:03.828366Z",
     "shell.execute_reply": "2021-11-10T09:15:03.828769Z",
     "shell.execute_reply.started": "2021-11-10T08:24:19.220289Z"
    },
    "papermill": {
     "duration": 0.096679,
     "end_time": "2021-11-10T09:15:03.828935",
     "exception": false,
     "start_time": "2021-11-10T09:15:03.732256",
     "status": "completed"
    },
    "tags": []
   },
   "outputs": [
    {
     "name": "stdout",
     "output_type": "stream",
     "text": [
      "CUDA is available!  Training on GPU ...\n"
     ]
    }
   ],
   "source": [
    "# 查看CUDA是否可用\n",
    "train_on_gpu = torch.cuda.is_available()\n",
    "\n",
    "if not train_on_gpu:\n",
    "    print('CUDA is not available.  Training on CPU ...')\n",
    "else:\n",
    "    print('CUDA is available!  Training on GPU ...')"
   ]
  },
  {
   "cell_type": "code",
   "execution_count": 4,
   "metadata": {
    "execution": {
     "iopub.execute_input": "2021-11-10T09:15:04.042120Z",
     "iopub.status.busy": "2021-11-10T09:15:04.041526Z",
     "iopub.status.idle": "2021-11-10T09:15:04.265472Z",
     "shell.execute_reply": "2021-11-10T09:15:04.265008Z",
     "shell.execute_reply.started": "2021-10-21T07:25:02.230095Z"
    },
    "papermill": {
     "duration": 0.395064,
     "end_time": "2021-11-10T09:15:04.265600",
     "exception": false,
     "start_time": "2021-11-10T09:15:03.870536",
     "status": "completed"
    },
    "tags": []
   },
   "outputs": [],
   "source": [
    "# 读取数据\n",
    "\n",
    "# 存放数据的路径\n",
    "path = '/kaggle/input/ninoprediction/'\n",
    "soda_train = nc.Dataset(path + 'SODA_train.nc')\n",
    "soda_label = nc.Dataset(path + 'SODA_label.nc')\n",
    "cmip_train = nc.Dataset(path + 'CMIP_train.nc')\n",
    "cmip_label = nc.Dataset(path + 'CMIP_label.nc')"
   ]
  },
  {
   "cell_type": "markdown",
   "metadata": {
    "papermill": {
     "duration": 0.040337,
     "end_time": "2021-11-10T09:15:04.346658",
     "exception": false,
     "start_time": "2021-11-10T09:15:04.306321",
     "status": "completed"
    },
    "tags": []
   },
   "source": [
    "#### 增加月特征"
   ]
  },
  {
   "cell_type": "markdown",
   "metadata": {
    "papermill": {
     "duration": 0.040016,
     "end_time": "2021-11-10T09:15:04.427539",
     "exception": false,
     "start_time": "2021-11-10T09:15:04.387523",
     "status": "completed"
    },
    "tags": []
   },
   "source": [
    "本赛题的线上测试集是任意选取某个月为起始的长度为12的序列，因此该方案中增加了起始月份作为新的特征。但是使用整数1~12不能反映12月与1月相邻这一特点，因此需要借助三角函数的周期性，同时考虑到单独使用sin函数或cos函数会存在某些月份的函数值相同的现象，因此同时使用sin函数和cos函数作为两个新增月份特征，保证每个起始月份的这两个特征组合都是独一无二的，并且又能够很好地表现出月份的周期性特征。"
   ]
  },
  {
   "cell_type": "markdown",
   "metadata": {
    "papermill": {
     "duration": 0.040553,
     "end_time": "2021-11-10T09:15:04.508382",
     "exception": false,
     "start_time": "2021-11-10T09:15:04.467829",
     "status": "completed"
    },
    "tags": []
   },
   "source": [
    "我们可以通过可视化直观地感受下每个月份所构造的月份特征组合。"
   ]
  },
  {
   "cell_type": "code",
   "execution_count": 5,
   "metadata": {
    "execution": {
     "iopub.execute_input": "2021-11-10T09:15:04.603365Z",
     "iopub.status.busy": "2021-11-10T09:15:04.602559Z",
     "iopub.status.idle": "2021-11-10T09:15:05.149292Z",
     "shell.execute_reply": "2021-11-10T09:15:05.148810Z",
     "shell.execute_reply.started": "2021-10-21T07:25:02.336139Z"
    },
    "papermill": {
     "duration": 0.599664,
     "end_time": "2021-11-10T09:15:05.149428",
     "exception": false,
     "start_time": "2021-11-10T09:15:04.549764",
     "status": "completed"
    },
    "tags": []
   },
   "outputs": [
    {
     "data": {
      "image/png": "[encoded data removed]",
      "text/plain": [
       "<Figure size 1440x360 with 1 Axes>"
      ]
     },
     "metadata": {
      "needs_background": "light"
     },
     "output_type": "display_data"
    }
   ],
   "source": [
    "months = range(0, 12)\n",
    "month_labels = ['Jan', 'Feb', 'Mar', 'Apr', 'May', 'Jun', 'Jul', 'Aug', 'Sept', 'Oct', 'Nov', 'Dec']\n",
    "# sin月份特征\n",
    "months_sin = map(lambda x: math.sin(2 * math.pi * x / len(months)), months)\n",
    "# cos月份特征\n",
    "months_cos = map(lambda x: math.cos(2 * math.pi * x / len(months)), months)\n",
    "\n",
    "# 绘制每个月的月份特征组合\n",
    "plt.figure(figsize=(20, 5))\n",
    "x_axis = np.arange(-1, 13, 1e-2)\n",
    "sns.lineplot(x=x_axis, y=np.sin(2 * math.pi * x_axis / len(months)))\n",
    "sns.lineplot(x=x_axis, y=np.cos(2 * math.pi * x_axis / len(months)))\n",
    "sns.scatterplot(x=months, y=months_sin, s=200)\n",
    "sns.scatterplot(x=months, y=months_cos, s=200)\n",
    "plt.xticks(ticks=months, labels=month_labels)\n",
    "plt.show()"
   ]
  },
  {
   "cell_type": "markdown",
   "metadata": {
    "papermill": {
     "duration": 0.042371,
     "end_time": "2021-11-10T09:15:05.235016",
     "exception": false,
     "start_time": "2021-11-10T09:15:05.192645",
     "status": "completed"
    },
    "tags": []
   },
   "source": [
    "构造SODA数据的sin月份特征。"
   ]
  },
  {
   "cell_type": "code",
   "execution_count": 6,
   "metadata": {
    "execution": {
     "iopub.execute_input": "2021-11-10T09:15:05.382538Z",
     "iopub.status.busy": "2021-11-10T09:15:05.362189Z",
     "iopub.status.idle": "2021-11-10T09:15:09.991637Z",
     "shell.execute_reply": "2021-11-10T09:15:09.991174Z",
     "shell.execute_reply.started": "2021-10-21T07:25:02.899195Z"
    },
    "papermill": {
     "duration": 4.714823,
     "end_time": "2021-11-10T09:15:09.991777",
     "exception": false,
     "start_time": "2021-11-10T09:15:05.276954",
     "status": "completed"
    },
    "tags": []
   },
   "outputs": [
    {
     "data": {
      "text/plain": [
       "(100, 36, 24, 72)"
      ]
     },
     "execution_count": 6,
     "metadata": {},
     "output_type": "execute_result"
    }
   ],
   "source": [
    "# 构造一个维度为100*36*24*72的矩阵，矩阵中的每个值为所在月份的sin函数值\n",
    "soda_month_sin = np.zeros((100, 36, 24, 72))\n",
    "for y in range(100):\n",
    "    for m in range(36):\n",
    "        for lat in range(24):\n",
    "            for lon in range(72):\n",
    "                soda_month_sin[y, m, lat, lon] = math.sin(2 * math.pi * (m % 12) / 12)\n",
    "                \n",
    "soda_month_sin.shape"
   ]
  },
  {
   "cell_type": "markdown",
   "metadata": {
    "papermill": {
     "duration": 0.042795,
     "end_time": "2021-11-10T09:15:10.077774",
     "exception": false,
     "start_time": "2021-11-10T09:15:10.034979",
     "status": "completed"
    },
    "tags": []
   },
   "source": [
    "构造SODA数据的cos月份特征。"
   ]
  },
  {
   "cell_type": "code",
   "execution_count": 7,
   "metadata": {
    "execution": {
     "iopub.execute_input": "2021-11-10T09:15:10.213213Z",
     "iopub.status.busy": "2021-11-10T09:15:10.203033Z",
     "iopub.status.idle": "2021-11-10T09:15:15.014679Z",
     "shell.execute_reply": "2021-11-10T09:15:15.015236Z",
     "shell.execute_reply.started": "2021-10-21T07:25:07.740353Z"
    },
    "papermill": {
     "duration": 4.894975,
     "end_time": "2021-11-10T09:15:15.015420",
     "exception": false,
     "start_time": "2021-11-10T09:15:10.120445",
     "status": "completed"
    },
    "tags": []
   },
   "outputs": [
    {
     "data": {
      "text/plain": [
       "(100, 36, 24, 72)"
      ]
     },
     "execution_count": 7,
     "metadata": {},
     "output_type": "execute_result"
    }
   ],
   "source": [
    "# 构造一个维度为100*36*24*72的矩阵，矩阵中的每个值为所在月份的cos函数值\n",
    "soda_month_cos = np.zeros((100, 36, 24, 72))\n",
    "for y in range(100):\n",
    "    for m in range(36):\n",
    "        for lat in range(24):\n",
    "            for lon in range(72):\n",
    "                soda_month_cos[y, m, lat, lon] = math.cos(2 * math.pi * (m % 12) / 12)\n",
    "                \n",
    "soda_month_cos.shape"
   ]
  },
  {
   "cell_type": "markdown",
   "metadata": {
    "papermill": {
     "duration": 0.043675,
     "end_time": "2021-11-10T09:15:15.104012",
     "exception": false,
     "start_time": "2021-11-10T09:15:15.060337",
     "status": "completed"
    },
    "tags": []
   },
   "source": [
    "构造CMIP数据的sin月份特征。"
   ]
  },
  {
   "cell_type": "code",
   "execution_count": 8,
   "metadata": {
    "execution": {
     "iopub.execute_input": "2021-11-10T09:15:15.231788Z",
     "iopub.status.busy": "2021-11-10T09:15:15.216440Z",
     "iopub.status.idle": "2021-11-10T09:19:00.373213Z",
     "shell.execute_reply": "2021-11-10T09:19:00.373662Z",
     "shell.execute_reply.started": "2021-10-21T07:25:12.923041Z"
    },
    "papermill": {
     "duration": 225.2277,
     "end_time": "2021-11-10T09:19:00.373825",
     "exception": false,
     "start_time": "2021-11-10T09:15:15.146125",
     "status": "completed"
    },
    "tags": []
   },
   "outputs": [
    {
     "data": {
      "text/plain": [
       "(4645, 36, 24, 72)"
      ]
     },
     "execution_count": 8,
     "metadata": {},
     "output_type": "execute_result"
    }
   ],
   "source": [
    "# 构造一个维度为4645*36*24*72的矩阵，矩阵中的每个值为所在月份的sin函数值\n",
    "cmip_month_sin = np.zeros((4645, 36, 24, 72))\n",
    "for y in range(4645):\n",
    "    for m in range(36):\n",
    "        for lat in range(24):\n",
    "            for lon in range(72):\n",
    "                cmip_month_sin[y, m, lat, lon] = math.sin(2 * math.pi * (m % 12) / 12)\n",
    "                \n",
    "cmip_month_sin.shape"
   ]
  },
  {
   "cell_type": "markdown",
   "metadata": {
    "papermill": {
     "duration": 0.043105,
     "end_time": "2021-11-10T09:19:00.460782",
     "exception": false,
     "start_time": "2021-11-10T09:19:00.417677",
     "status": "completed"
    },
    "tags": []
   },
   "source": [
    "构造CMIP数据的cos月份特征。"
   ]
  },
  {
   "cell_type": "code",
   "execution_count": 9,
   "metadata": {
    "execution": {
     "iopub.execute_input": "2021-11-10T09:19:00.580015Z",
     "iopub.status.busy": "2021-11-10T09:19:00.564652Z",
     "iopub.status.idle": "2021-11-10T09:22:46.383555Z",
     "shell.execute_reply": "2021-11-10T09:22:46.384007Z",
     "shell.execute_reply.started": "2021-10-21T07:29:05.42979Z"
    },
    "papermill": {
     "duration": 225.880432,
     "end_time": "2021-11-10T09:22:46.384183",
     "exception": false,
     "start_time": "2021-11-10T09:19:00.503751",
     "status": "completed"
    },
    "tags": []
   },
   "outputs": [
    {
     "data": {
      "text/plain": [
       "(4645, 36, 24, 72)"
      ]
     },
     "execution_count": 9,
     "metadata": {},
     "output_type": "execute_result"
    }
   ],
   "source": [
    "# 构造一个维度为4645*36*24*72的矩阵，矩阵中的每个值为所在月份的cos函数值\n",
    "cmip_month_cos = np.zeros((4645, 36, 24, 72))\n",
    "for y in range(4645):\n",
    "    for m in range(36):\n",
    "        for lat in range(24):\n",
    "            for lon in range(72):\n",
    "                cmip_month_cos[y, m, lat, lon] = math.cos(2 * math.pi * (m % 12) / 12)\n",
    "                \n",
    "cmip_month_cos.shape"
   ]
  },
  {
   "cell_type": "markdown",
   "metadata": {
    "papermill": {
     "duration": 0.042597,
     "end_time": "2021-11-10T09:22:46.469951",
     "exception": false,
     "start_time": "2021-11-10T09:22:46.427354",
     "status": "completed"
    },
    "tags": []
   },
   "source": [
    "#### 数据扁平化"
   ]
  },
  {
   "cell_type": "markdown",
   "metadata": {
    "papermill": {
     "duration": 0.042975,
     "end_time": "2021-11-10T09:22:46.555947",
     "exception": false,
     "start_time": "2021-11-10T09:22:46.512972",
     "status": "completed"
    },
    "tags": []
   },
   "source": [
    "在Task2中我们发现，赛题中给出的数据量非常少，如何增加数据量呢？对于时序数据，一种常用的做法就是滑窗。\n",
    "\n",
    "由于每条数据在时间上有重叠，我们取数据的前12个月拼接起来，就得到了长度为（数据条数×12个月）的序列数据，如图1所示：\n",
    "<img src=\"./fig/Task3-样本拼接示意图.png\" width=\"70%\">\n",
    "\n",
    "然后我们以每个月为起始月，接下来的12个月作为模型输入X，后24个月的Nino3.4指数作为预测目标Y构建训练样本，如图2所示：\n",
    "<img src=\"./fig/Task3-滑窗构造训练样本.png\" width=\"70%\">\n",
    "\n",
    "需要注意的是，CMIP数据提供了不同的拟合模式，只有在同种模式下各个年份的数据在时间上是连续的，因此同种模式的数据才能在时间上拼接起来，除去最后11个月不能构成训练样本外，滑窗最终能获得的训练样本数量可以按以下方式计算得到：\n",
    "\n",
    "- SODA：1种模式×（100年×12-11）=1189条样本\n",
    "- CMIP6：15种模式×（151年×12-11）=27015条样本\n",
    "- CMIP5：17种模式×（140年×12-11）=28373条样本"
   ]
  },
  {
   "cell_type": "markdown",
   "metadata": {
    "papermill": {
     "duration": 0.042529,
     "end_time": "2021-11-10T09:22:46.641383",
     "exception": false,
     "start_time": "2021-11-10T09:22:46.598854",
     "status": "completed"
    },
    "tags": []
   },
   "source": [
    "在下面的代码中，我们只将各个模式的数据拼接起来而没有采用滑窗，这是因为考虑到采用滑窗得到的训练样本维度是（数据条数×12×24×72），需要占用大量的内存资源。我们在之后构建数据集时，随机抽取了部分样本，大家在实际问题中，如果资源足够的话，可以采用滑窗构建的全部的数据，不过需要注意数据量大的情况下可以考虑构建更深的模型来挖掘更多信息。"
   ]
  },
  {
   "cell_type": "code",
   "execution_count": 10,
   "metadata": {
    "execution": {
     "iopub.execute_input": "2021-11-10T09:22:46.740678Z",
     "iopub.status.busy": "2021-11-10T09:22:46.737178Z",
     "iopub.status.idle": "2021-11-10T09:22:46.742965Z",
     "shell.execute_reply": "2021-11-10T09:22:46.742544Z",
     "shell.execute_reply.started": "2021-10-21T07:32:53.823861Z"
    },
    "papermill": {
     "duration": 0.057956,
     "end_time": "2021-11-10T09:22:46.743082",
     "exception": false,
     "start_time": "2021-11-10T09:22:46.685126",
     "status": "completed"
    },
    "tags": []
   },
   "outputs": [],
   "source": [
    "def make_flatted(train_ds, label_ds, month_sin, month_cos, info, start_idx=0):\n",
    "    keys = ['sst', 't300', 'ua', 'va']\n",
    "    label_key = 'nino'\n",
    "    # 年数\n",
    "    years = info[1]\n",
    "    # 模式数\n",
    "    models = info[2]\n",
    "    \n",
    "    train_list = []\n",
    "    label_list = []\n",
    "    \n",
    "    # 将同种模式下的数据拼接起来\n",
    "    for model_i in range(models):\n",
    "        blocks = []\n",
    "        \n",
    "        # 对每个特征，取每条数据的前12个月进行拼接\n",
    "        for key in keys:\n",
    "            block = train_ds[key][start_idx + model_i * years: start_idx + (model_i + 1) * years, :12].reshape(-1, 24, 72, 1).data\n",
    "            blocks.append(block)\n",
    "        # 增加sin月份特征\n",
    "        block_sin = month_sin[start_idx + model_i * years: start_idx + (model_i + 1) * years, :12].reshape(-1, 24, 72, 1)\n",
    "        blocks.append(block_sin)\n",
    "        # 增加cos月份特征\n",
    "        block_cos = month_cos[start_idx + model_i * years: start_idx + (model_i + 1) * years, :12].reshape(-1, 24, 72, 1)\n",
    "        blocks.append(block_cos)\n",
    "        \n",
    "        # 将所有特征在最后一个维度上拼接起来\n",
    "        train_flatted = np.concatenate(blocks, axis=-1)\n",
    "        \n",
    "        # 取12-23月的标签进行拼接，注意加上最后一年的最后12个月的标签（与最后一年12-23月的标签共同构成最后一年前12个月的预测目标）\n",
    "        label_flatted = np.concatenate([\n",
    "            label_ds[label_key][start_idx + model_i * years: start_idx + (model_i + 1) * years, 12: 24].reshape(-1).data,\n",
    "            label_ds[label_key][start_idx + (model_i + 1) * years - 1, 24: 36].reshape(-1).data\n",
    "        ], axis=0)\n",
    "        \n",
    "        train_list.append(train_flatted)\n",
    "        label_list.append(label_flatted)\n",
    "        \n",
    "    return train_list, label_list"
   ]
  },
  {
   "cell_type": "code",
   "execution_count": 11,
   "metadata": {
    "execution": {
     "iopub.execute_input": "2021-11-10T09:22:46.835870Z",
     "iopub.status.busy": "2021-11-10T09:22:46.835071Z",
     "iopub.status.idle": "2021-11-10T09:24:24.878233Z",
     "shell.execute_reply": "2021-11-10T09:24:24.878703Z",
     "shell.execute_reply.started": "2021-10-21T07:32:53.840256Z"
    },
    "papermill": {
     "duration": 98.090322,
     "end_time": "2021-11-10T09:24:24.878897",
     "exception": false,
     "start_time": "2021-11-10T09:22:46.788575",
     "status": "completed"
    },
    "tags": []
   },
   "outputs": [
    {
     "data": {
      "text/plain": [
       "((1, 1200, 24, 72, 6), (15, 1812, 24, 72, 6), (17, 1680, 24, 72, 6))"
      ]
     },
     "execution_count": 11,
     "metadata": {},
     "output_type": "execute_result"
    }
   ],
   "source": [
    "soda_info = ('soda', 100, 1)\n",
    "cmip6_info = ('cmip6', 151, 15)\n",
    "cmip5_info = ('cmip5', 140, 17)\n",
    "\n",
    "soda_trains, soda_labels = make_flatted(soda_train, soda_label, soda_month_sin, soda_month_cos, soda_info)\n",
    "cmip6_trains, cmip6_labels = make_flatted(cmip_train, cmip_label, cmip_month_sin, cmip_month_cos, cmip6_info)\n",
    "cmip5_trains, cmip5_labels = make_flatted(cmip_train, cmip_label, cmip_month_sin, cmip_month_cos, cmip5_info, cmip6_info[1]*cmip6_info[2])\n",
    "\n",
    "# 得到扁平化后的数据维度为（模式数×序列长度×纬度×经度×特征数），其中序列长度=年数×12\n",
    "np.shape(soda_trains), np.shape(cmip6_trains), np.shape(cmip5_trains)"
   ]
  },
  {
   "cell_type": "code",
   "execution_count": 12,
   "metadata": {
    "execution": {
     "iopub.execute_input": "2021-11-10T09:24:25.152679Z",
     "iopub.status.busy": "2021-11-10T09:24:24.982782Z",
     "iopub.status.idle": "2021-11-10T09:24:25.154686Z",
     "shell.execute_reply": "2021-11-10T09:24:25.155159Z",
     "shell.execute_reply.started": "2021-10-21T07:33:48.040591Z"
    },
    "papermill": {
     "duration": 0.229381,
     "end_time": "2021-11-10T09:24:25.155316",
     "exception": false,
     "start_time": "2021-11-10T09:24:24.925935",
     "status": "completed"
    },
    "tags": []
   },
   "outputs": [],
   "source": [
    "del soda_month_sin, soda_month_cos\n",
    "del cmip_month_sin, cmip_month_cos\n",
    "del soda_train, soda_label\n",
    "del cmip_train, cmip_label"
   ]
  },
  {
   "cell_type": "markdown",
   "metadata": {
    "papermill": {
     "duration": 0.04346,
     "end_time": "2021-11-10T09:24:25.242948",
     "exception": false,
     "start_time": "2021-11-10T09:24:25.199488",
     "status": "completed"
    },
    "tags": []
   },
   "source": [
    "#### 空值填充"
   ]
  },
  {
   "cell_type": "markdown",
   "metadata": {
    "papermill": {
     "duration": 0.04333,
     "end_time": "2021-11-10T09:24:25.330153",
     "exception": false,
     "start_time": "2021-11-10T09:24:25.286823",
     "status": "completed"
    },
    "tags": []
   },
   "source": [
    "在Task2中我们发现，除SST外，其它特征中都存在空值，这些空值基本都在陆地上，因此我们直接将空值填充为0。"
   ]
  },
  {
   "cell_type": "code",
   "execution_count": 13,
   "metadata": {
    "execution": {
     "iopub.execute_input": "2021-11-10T09:24:25.422928Z",
     "iopub.status.busy": "2021-11-10T09:24:25.421803Z",
     "iopub.status.idle": "2021-11-10T09:24:25.494885Z",
     "shell.execute_reply": "2021-11-10T09:24:25.495301Z",
     "shell.execute_reply.started": "2021-10-21T07:33:48.224046Z"
    },
    "papermill": {
     "duration": 0.121727,
     "end_time": "2021-11-10T09:24:25.495442",
     "exception": false,
     "start_time": "2021-11-10T09:24:25.373715",
     "status": "completed"
    },
    "tags": []
   },
   "outputs": [
    {
     "name": "stdout",
     "output_type": "stream",
     "text": [
      "Number of null in soda_trains after fillna: 0\n"
     ]
    }
   ],
   "source": [
    "# 填充SODA数据中的空值\n",
    "soda_trains = np.array(soda_trains)\n",
    "soda_trains_nan = np.isnan(soda_trains)\n",
    "soda_trains[soda_trains_nan] = 0\n",
    "print('Number of null in soda_trains after fillna:', np.sum(np.isnan(soda_trains)))"
   ]
  },
  {
   "cell_type": "code",
   "execution_count": 14,
   "metadata": {
    "execution": {
     "iopub.execute_input": "2021-11-10T09:24:25.587773Z",
     "iopub.status.busy": "2021-11-10T09:24:25.586691Z",
     "iopub.status.idle": "2021-11-10T09:24:27.292695Z",
     "shell.execute_reply": "2021-11-10T09:24:27.291961Z",
     "shell.execute_reply.started": "2021-10-21T07:33:48.30097Z"
    },
    "papermill": {
     "duration": 1.753544,
     "end_time": "2021-11-10T09:24:27.292852",
     "exception": false,
     "start_time": "2021-11-10T09:24:25.539308",
     "status": "completed"
    },
    "tags": []
   },
   "outputs": [
    {
     "name": "stdout",
     "output_type": "stream",
     "text": [
      "Number of null in cmip6_trains after fillna: 0\n"
     ]
    }
   ],
   "source": [
    "# 填充CMIP6数据中的空值\n",
    "cmip6_trains = np.array(cmip6_trains)\n",
    "cmip6_trains_nan = np.isnan(cmip6_trains)\n",
    "cmip6_trains[cmip6_trains_nan] = 0\n",
    "print('Number of null in cmip6_trains after fillna:', np.sum(np.isnan(cmip6_trains)))"
   ]
  },
  {
   "cell_type": "code",
   "execution_count": 15,
   "metadata": {
    "execution": {
     "iopub.execute_input": "2021-11-10T09:24:27.385709Z",
     "iopub.status.busy": "2021-11-10T09:24:27.384660Z",
     "iopub.status.idle": "2021-11-10T09:24:29.161437Z",
     "shell.execute_reply": "2021-11-10T09:24:29.160639Z",
     "shell.execute_reply.started": "2021-10-21T07:33:50.049562Z"
    },
    "papermill": {
     "duration": 1.824903,
     "end_time": "2021-11-10T09:24:29.161584",
     "exception": false,
     "start_time": "2021-11-10T09:24:27.336681",
     "status": "completed"
    },
    "tags": []
   },
   "outputs": [
    {
     "name": "stdout",
     "output_type": "stream",
     "text": [
      "Number of null in cmip6_trains after fillna: 0\n"
     ]
    }
   ],
   "source": [
    "# 填充CMIP5数据中的空值\n",
    "cmip5_trains = np.array(cmip5_trains)\n",
    "cmip5_trains_nan = np.isnan(cmip5_trains)\n",
    "cmip5_trains[cmip5_trains_nan] = 0\n",
    "print('Number of null in cmip6_trains after fillna:', np.sum(np.isnan(cmip5_trains)))"
   ]
  },
  {
   "cell_type": "markdown",
   "metadata": {
    "papermill": {
     "duration": 0.044652,
     "end_time": "2021-11-10T09:24:29.250661",
     "exception": false,
     "start_time": "2021-11-10T09:24:29.206009",
     "status": "completed"
    },
    "tags": []
   },
   "source": [
    "#### 构造数据集"
   ]
  },
  {
   "cell_type": "markdown",
   "metadata": {
    "papermill": {
     "duration": 0.043586,
     "end_time": "2021-11-10T09:24:29.337940",
     "exception": false,
     "start_time": "2021-11-10T09:24:29.294354",
     "status": "completed"
    },
    "tags": []
   },
   "source": [
    "在划分训练/验证集时，一个需要考虑的问题是训练集、验证集、测试集三者的分布是否是一致的。在本赛题中我们拿到的是两份数据，其中CMIP数据是CMIP5/6模式模拟的历史数据，SODA数据是由SODA模式重建的的历史观测同化数据，线上测试集则是来自国际多个海洋资料的同化数据，由此看来，SODA数据和线上测试集的分布是较为一致的，CMIP数据的分布则与测试集不同。在三者不一致的情况下，我们通常会尽可能使验证集与测试集的分布一致，这样当模型在验证集上有较好的表现时，在测试集上也会有较好的表现。\n",
    "\n",
    "因此，我们从CMIP数据的每个模式中各抽取100条数据作为训练集（这里抽取的样本数只是作为一个示例，实际模型训练的时候使用多少样本需要综合考虑可用的资源条件和构建的模型深度），从SODA模式中抽取100条数据作为验证集。有的同学可能会疑惑，既然这里只用了100条SODA数据，那么为什么还要对SODA数据扁平化后再抽样而不直接用原始数据呢，因为直接取原始数据的前12个月作为输入，后24个月作为标签所得到的验证集每一条都是从0月开始的，而线上的测试集起始月份是随机抽取的，因此这里仍然要尽可能保证验证集与测试集的数据分布一致，使构建的验证集的起始月份也是随机的。\n",
    "\n",
    "我们这里没有构造测试集，因为线上的测试集已经公开了，可以直接使用，在比赛时，线上的测试集是保密的，需要构造线下的测试集来评估模型效果，同时需要注意线下的评估结果和线上的提交结果是否差距不大或者变化趋势是一致的，如果不是就需要调整线下的测试集，保证它和线上测试集的分布尽可能一致，能够较为准确地指示模型的调整方向。"
   ]
  },
  {
   "cell_type": "code",
   "execution_count": 16,
   "metadata": {
    "execution": {
     "iopub.execute_input": "2021-11-10T09:24:29.445733Z",
     "iopub.status.busy": "2021-11-10T09:24:29.444632Z",
     "iopub.status.idle": "2021-11-10T09:24:30.366281Z",
     "shell.execute_reply": "2021-11-10T09:24:30.365467Z",
     "shell.execute_reply.started": "2021-10-21T07:33:51.83364Z"
    },
    "papermill": {
     "duration": 0.984392,
     "end_time": "2021-11-10T09:24:30.366438",
     "exception": false,
     "start_time": "2021-11-10T09:24:29.382046",
     "status": "completed"
    },
    "tags": []
   },
   "outputs": [],
   "source": [
    "# 构造训练集\n",
    "\n",
    "X_train = []\n",
    "y_train = []\n",
    "# 从CMIP5的17种模式中各抽取100条数据\n",
    "for model_i in range(17):\n",
    "    samples = np.random.choice(cmip5_trains.shape[1]-12, size=100)\n",
    "    for ind in samples:\n",
    "        X_train.append(cmip5_trains[model_i, ind: ind+12])\n",
    "        y_train.append(cmip5_labels[model_i][ind: ind+24])\n",
    "# 从CMIP6的15种模式种各抽取100条数据\n",
    "for model_i in range(15):\n",
    "    samples = np.random.choice(cmip6_trains.shape[1]-12, size=100)\n",
    "    for ind in samples:\n",
    "        X_train.append(cmip6_trains[model_i, ind: ind+12])\n",
    "        y_train.append(cmip6_labels[model_i][ind: ind+24])\n",
    "X_train = np.array(X_train)\n",
    "y_train = np.array(y_train)"
   ]
  },
  {
   "cell_type": "code",
   "execution_count": 17,
   "metadata": {
    "execution": {
     "iopub.execute_input": "2021-11-10T09:24:30.464643Z",
     "iopub.status.busy": "2021-11-10T09:24:30.463377Z",
     "iopub.status.idle": "2021-11-10T09:24:30.496402Z",
     "shell.execute_reply": "2021-11-10T09:24:30.495893Z",
     "shell.execute_reply.started": "2021-10-21T07:33:52.757012Z"
    },
    "papermill": {
     "duration": 0.083522,
     "end_time": "2021-11-10T09:24:30.496543",
     "exception": false,
     "start_time": "2021-11-10T09:24:30.413021",
     "status": "completed"
    },
    "tags": []
   },
   "outputs": [],
   "source": [
    "# 构造测试集\n",
    "\n",
    "X_valid = []\n",
    "y_valid = []\n",
    "samples = np.random.choice(soda_trains.shape[1]-12, size=100)\n",
    "for ind in samples:\n",
    "    X_valid.append(soda_trains[0, ind: ind+12])\n",
    "    y_valid.append(soda_labels[0][ind: ind+24])\n",
    "X_valid = np.array(X_valid)\n",
    "y_valid = np.array(y_valid)"
   ]
  },
  {
   "cell_type": "code",
   "execution_count": 18,
   "metadata": {
    "execution": {
     "iopub.execute_input": "2021-11-10T09:24:30.635941Z",
     "iopub.status.busy": "2021-11-10T09:24:30.635228Z",
     "iopub.status.idle": "2021-11-10T09:24:30.637802Z",
     "shell.execute_reply": "2021-11-10T09:24:30.638226Z",
     "shell.execute_reply.started": "2021-10-21T07:33:52.794851Z"
    },
    "papermill": {
     "duration": 0.05296,
     "end_time": "2021-11-10T09:24:30.638353",
     "exception": false,
     "start_time": "2021-11-10T09:24:30.585393",
     "status": "completed"
    },
    "tags": []
   },
   "outputs": [
    {
     "data": {
      "text/plain": [
       "((3200, 12, 24, 72, 6), (3200, 24), (100, 12, 24, 72, 6), (100, 24))"
      ]
     },
     "execution_count": 18,
     "metadata": {},
     "output_type": "execute_result"
    }
   ],
   "source": [
    "# 查看数据集维度\n",
    "X_train.shape, y_train.shape, X_valid.shape, y_valid.shape"
   ]
  },
  {
   "cell_type": "code",
   "execution_count": 19,
   "metadata": {
    "execution": {
     "iopub.execute_input": "2021-11-10T09:24:30.736251Z",
     "iopub.status.busy": "2021-11-10T09:24:30.735238Z",
     "iopub.status.idle": "2021-11-10T09:24:30.743722Z",
     "shell.execute_reply": "2021-11-10T09:24:30.744128Z",
     "shell.execute_reply.started": "2021-10-21T07:33:52.802917Z"
    },
    "papermill": {
     "duration": 0.061876,
     "end_time": "2021-11-10T09:24:30.744261",
     "exception": false,
     "start_time": "2021-11-10T09:24:30.682385",
     "status": "completed"
    },
    "tags": []
   },
   "outputs": [],
   "source": [
    "del cmip5_trains, cmip5_labels\n",
    "del cmip6_trains, cmip6_labels\n",
    "del soda_trains, soda_labels"
   ]
  },
  {
   "cell_type": "code",
   "execution_count": 20,
   "metadata": {
    "execution": {
     "iopub.execute_input": "2021-11-10T09:24:30.837742Z",
     "iopub.status.busy": "2021-11-10T09:24:30.835677Z",
     "iopub.status.idle": "2021-11-10T09:24:37.325218Z",
     "shell.execute_reply": "2021-11-10T09:24:37.325813Z",
     "shell.execute_reply.started": "2021-10-21T07:33:52.823277Z"
    },
    "papermill": {
     "duration": 6.537288,
     "end_time": "2021-11-10T09:24:37.326024",
     "exception": false,
     "start_time": "2021-11-10T09:24:30.788736",
     "status": "completed"
    },
    "tags": []
   },
   "outputs": [],
   "source": [
    "# 保存数据集\n",
    "np.save('X_train_sample.npy', X_train)\n",
    "np.save('y_train_sample.npy', y_train)\n",
    "np.save('X_valid_sample.npy', X_valid)\n",
    "np.save('y_valid_sample.npy', y_valid)"
   ]
  },
  {
   "cell_type": "markdown",
   "metadata": {
    "papermill": {
     "duration": 18.052826,
     "end_time": "2021-11-10T09:24:55.435219",
     "exception": false,
     "start_time": "2021-11-10T09:24:37.382393",
     "status": "completed"
    },
    "tags": []
   },
   "source": [
    "### 模型构建"
   ]
  },
  {
   "cell_type": "markdown",
   "metadata": {
    "papermill": {
     "duration": 1.858781,
     "end_time": "2021-11-10T09:24:59.616340",
     "exception": false,
     "start_time": "2021-11-10T09:24:57.757559",
     "status": "completed"
    },
    "tags": []
   },
   "source": [
    "在模型构建部分的通用流程是：构造评估函数 -> 构建并训练模型 -> 模型评估，后两步是循环的，可以根据评估结果重新调整并训练模型，再重新进行评估。"
   ]
  },
  {
   "cell_type": "markdown",
   "metadata": {
    "papermill": {
     "duration": 0.044934,
     "end_time": "2021-11-10T09:25:00.686854",
     "exception": false,
     "start_time": "2021-11-10T09:25:00.641920",
     "status": "completed"
    },
    "tags": []
   },
   "source": [
    "#### 构造评估函数"
   ]
  },
  {
   "cell_type": "markdown",
   "metadata": {
    "papermill": {
     "duration": 0.045047,
     "end_time": "2021-11-10T09:25:00.776034",
     "exception": false,
     "start_time": "2021-11-10T09:25:00.730987",
     "status": "completed"
    },
    "tags": []
   },
   "source": [
    "模型的评估函数通常就是官方给出的评估指标，不过在比赛中经常会出现线下的评估结果和提交后的线上评估结果不一致的情况，这通常是线下测试集和线上测试集分布不一致造成的。"
   ]
  },
  {
   "cell_type": "code",
   "execution_count": 21,
   "metadata": {
    "execution": {
     "iopub.execute_input": "2021-11-10T09:25:00.870467Z",
     "iopub.status.busy": "2021-11-10T09:25:00.869929Z",
     "iopub.status.idle": "2021-11-10T09:25:22.612495Z",
     "shell.execute_reply": "2021-11-10T09:25:22.611911Z",
     "shell.execute_reply.started": "2021-11-10T08:24:24.814274Z"
    },
    "papermill": {
     "duration": 21.791722,
     "end_time": "2021-11-10T09:25:22.612629",
     "exception": false,
     "start_time": "2021-11-10T09:25:00.820907",
     "status": "completed"
    },
    "tags": []
   },
   "outputs": [],
   "source": [
    "# 读取数据集\n",
    "X_train = np.load('../input/ai-earth-task03-samples/X_train_sample.npy')\n",
    "y_train = np.load('../input/ai-earth-task03-samples/y_train_sample.npy')\n",
    "X_valid = np.load('../input/ai-earth-task03-samples/X_valid_sample.npy')\n",
    "y_valid = np.load('../input/ai-earth-task03-samples/y_valid_sample.npy')"
   ]
  },
  {
   "cell_type": "code",
   "execution_count": 22,
   "metadata": {
    "execution": {
     "iopub.execute_input": "2021-11-10T09:25:22.708325Z",
     "iopub.status.busy": "2021-11-10T09:25:22.705056Z",
     "iopub.status.idle": "2021-11-10T09:25:22.710690Z",
     "shell.execute_reply": "2021-11-10T09:25:22.711121Z",
     "shell.execute_reply.started": "2021-11-10T08:24:50.053353Z"
    },
    "papermill": {
     "duration": 0.053184,
     "end_time": "2021-11-10T09:25:22.711246",
     "exception": false,
     "start_time": "2021-11-10T09:25:22.658062",
     "status": "completed"
    },
    "tags": []
   },
   "outputs": [
    {
     "data": {
      "text/plain": [
       "((3200, 12, 24, 72, 6), (3200, 24), (100, 12, 24, 72, 6), (100, 24))"
      ]
     },
     "execution_count": 22,
     "metadata": {},
     "output_type": "execute_result"
    }
   ],
   "source": [
    "X_train.shape, y_train.shape, X_valid.shape, y_valid.shape"
   ]
  },
  {
   "cell_type": "code",
   "execution_count": 23,
   "metadata": {
    "execution": {
     "iopub.execute_input": "2021-11-10T09:25:22.807577Z",
     "iopub.status.busy": "2021-11-10T09:25:22.804732Z",
     "iopub.status.idle": "2021-11-10T09:25:22.809401Z",
     "shell.execute_reply": "2021-11-10T09:25:22.809787Z",
     "shell.execute_reply.started": "2021-11-10T08:24:50.070165Z"
    },
    "papermill": {
     "duration": 0.053678,
     "end_time": "2021-11-10T09:25:22.809948",
     "exception": false,
     "start_time": "2021-11-10T09:25:22.756270",
     "status": "completed"
    },
    "tags": []
   },
   "outputs": [],
   "source": [
    "# 构造数据管道\n",
    "class AIEarthDataset(Dataset):\n",
    "    def __init__(self, data, label):\n",
    "        self.data = torch.tensor(data, dtype=torch.float32)\n",
    "        self.label = torch.tensor(label, dtype=torch.float32)\n",
    "\n",
    "    def __len__(self):\n",
    "        return len(self.label)\n",
    "    \n",
    "    def __getitem__(self, idx):\n",
    "        return self.data[idx], self.label[idx]"
   ]
  },
  {
   "cell_type": "code",
   "execution_count": 24,
   "metadata": {
    "execution": {
     "iopub.execute_input": "2021-11-10T09:25:22.919404Z",
     "iopub.status.busy": "2021-11-10T09:25:22.918885Z",
     "iopub.status.idle": "2021-11-10T09:25:24.047360Z",
     "shell.execute_reply": "2021-11-10T09:25:24.048122Z",
     "shell.execute_reply.started": "2021-11-10T08:24:50.081715Z"
    },
    "papermill": {
     "duration": 1.193094,
     "end_time": "2021-11-10T09:25:24.048294",
     "exception": false,
     "start_time": "2021-11-10T09:25:22.855200",
     "status": "completed"
    },
    "tags": []
   },
   "outputs": [],
   "source": [
    "batch_size = 32\n",
    "\n",
    "trainset = AIEarthDataset(X_train, y_train)\n",
    "trainloader = DataLoader(trainset, batch_size=batch_size, shuffle=True)\n",
    "\n",
    "validset = AIEarthDataset(X_valid, y_valid)\n",
    "validloader = DataLoader(validset, batch_size=batch_size, shuffle=True)"
   ]
  },
  {
   "cell_type": "markdown",
   "metadata": {
    "papermill": {
     "duration": 0.044471,
     "end_time": "2021-11-10T09:25:24.138027",
     "exception": false,
     "start_time": "2021-11-10T09:25:24.093556",
     "status": "completed"
    },
    "tags": []
   },
   "source": [
    "#### 模型构造与训练"
   ]
  },
  {
   "cell_type": "markdown",
   "metadata": {
    "papermill": {
     "duration": 0.044751,
     "end_time": "2021-11-10T09:25:24.227333",
     "exception": false,
     "start_time": "2021-11-10T09:25:24.182582",
     "status": "completed"
    },
    "tags": []
   },
   "source": [
    "这部分是赛题的重点，该TOP方案采用的是CNN+LSTM的串行结构，其中CNN用来提取空间信息，LSTM用来提取时间信息，模型结构如下图所示。\n",
    "\n",
    "<img src=\"./fig/Task3-CNN+LSTM模型.png\" width=\"15%\">\n",
    "\n",
    "- CNN部分\n",
    "\n",
    "CNN常用于处理图像信息，它在处理空间信息上也有很好的表现。CNN的输入尺寸是（N,C,H,W），其中N是批量梯度下降中一个批次的样本数量，H和W分别是输入图像的高和宽，C是输入图像的通道数，对于本题中的空间数据，H和W就对应数据的纬度和经度，C对应特征数。我们的训练样本中还多了一个时间维度，因此需要用将输入数据的格式(N,T,H,W,C)转换为(N×T,C,H,W)。\n",
    "\n",
    "BatchNormalization（后面简称BN）是批标准化层，通常放在卷积层后用于标准化数据的分布，能够减少各层不同数据分布之间的相互影响和依赖，具有加快模型训练速度、避免梯度爆炸、在一定程度上能增强模型泛化能力等优点，是神经网络问题中常用的“大杀器”。不过目前关于BN层和ReLU激活函数的放置顺序孰先孰后的问题众说纷纭，具体还是看模型的效果。关于这个问题的讨论可以参考https://www.zhihu.com/question/283715823\n",
    "\n",
    "总体来看CNN这一部分采用的是比较通用的结构，第一层采用比较大的卷积核（7×7），后面接多层的小卷积核（3×3），并用BN提升模型效果，用池化层减少模型参数、扩大感受野，池化层常用的有MaxPooling和AveragePooling，通常MaxPooling效果更好，不过具体看模型效果。模型的主要难点就在于调参，目前模型调参没有标准的答案，更多地是参考前人的经验以及不断地尝试。\n",
    "\n",
    "- LSTM部分\n",
    "\n",
    "CNN部分经过Flatten层将除时间维度以外的维度压平（即除时间步长12外的其它维度大小相乘，例如CNN部分最后的池化层输出维度是（N,T,C,H,W），则压平后的维度是（N,T,C×H×W）），输入LSTM层。LSTM层接受的输入维度为（Time_steps，Input_size），其中Time_steps就是时间步长12，Input_size是压平后的维度大小。Pytorch中LSTM的主要参数是input_size、hidden_size（隐层节点数）、batch_first（一个批次的样本数量N是否在第1维度），batch_first为True时输入和输出的数据格式为(N,T,input_size/hidden_size)，为数据格式为(T,N,input_size/hidden_size)，需要注意的一点是LSTM的输出形式是tensor格式的output和tuple格式的(h_n,c_n)，其中output是所有时间步的输出(N,T,hidden_size)，h_n是隐层的输出（即最后一个时间步的输出，格式为(1,N,hidden_size)），c_n是记忆细胞cell的输出。因为我们通过多层LSTM要获得的并非一个时间序列，而是要抽取出一个关于输入序列的特征表达，因此最后我们使用最后一个LSTM层的隐层输出h_n作为全连接层的输入。LSTM的使用方法可以参考https://pytorch.org/docs/stable/generated/torch.nn.LSTM.html?highlight=lstm#torch.nn.LSTM\n",
    "\n",
    "由于LSTM有四个门，因此LSTM的参数量是4倍的Input_size×hidden_size，参数量过多就容易过拟合，同时由于数据量也较少，因此该方案中只堆叠了两个LSTM层。"
   ]
  },
  {
   "cell_type": "code",
   "execution_count": 25,
   "metadata": {
    "execution": {
     "iopub.execute_input": "2021-11-10T09:25:24.329337Z",
     "iopub.status.busy": "2021-11-10T09:25:24.327773Z",
     "iopub.status.idle": "2021-11-10T09:25:24.329920Z",
     "shell.execute_reply": "2021-11-10T09:25:24.330328Z",
     "shell.execute_reply.started": "2021-11-10T08:35:02.875723Z"
    },
    "papermill": {
     "duration": 0.058538,
     "end_time": "2021-11-10T09:25:24.330451",
     "exception": false,
     "start_time": "2021-11-10T09:25:24.271913",
     "status": "completed"
    },
    "tags": []
   },
   "outputs": [],
   "source": [
    "# 构造模型\n",
    "class Model(nn.Module):\n",
    "    def __init__(self):\n",
    "        super().__init__()\n",
    "        self.conv1 = nn.Conv2d(6, 32, kernel_size=7, stride=2, padding=3)\n",
    "        self.conv2 = nn.Conv2d(32, 32, kernel_size=3, stride=1, padding=1)\n",
    "        self.bn = nn.BatchNorm2d(32)\n",
    "        self.avgpool = nn.AvgPool2d(kernel_size=2, stride=2)\n",
    "        self.flatten = nn.Flatten()\n",
    "        self.lstm1 = nn.LSTM(3456, 2048, batch_first=True)\n",
    "        self.lstm2 = nn.LSTM(2048, 1024, batch_first=True)\n",
    "        self.fc = nn.Linear(1024, 24)\n",
    "        \n",
    "    def forward(self, x):\n",
    "        # 转换输入形状\n",
    "        N, T, H, W, C = x.shape\n",
    "        x = x.permute(0, 1, 4, 2, 3).contiguous()\n",
    "        x = x.view(N*T, C, H, W)\n",
    "        \n",
    "        # CNN部分\n",
    "        x = self.conv1(x)\n",
    "        x = F.relu(self.bn(x))\n",
    "        x = self.conv2(x)\n",
    "        x = F.relu(self.bn(x))\n",
    "        x = self.avgpool(x)\n",
    "        x = self.flatten(x)\n",
    "\n",
    "        # 注意Flatten层后输出为(N×T,C_new)，需要转换成(N,T,C_new)\n",
    "        _, C_new = x.shape\n",
    "        x = x.view(N, T, C_new)\n",
    "        \n",
    "        # LSTM部分\n",
    "        x, h = self.lstm1(x)\n",
    "        x, h = self.lstm2(x)\n",
    "        # 注意这里只使用隐层的输出\n",
    "        x, _ = h\n",
    "        \n",
    "        x = self.fc(x.squeeze())\n",
    "        \n",
    "        return x"
   ]
  },
  {
   "cell_type": "code",
   "execution_count": 26,
   "metadata": {
    "execution": {
     "iopub.execute_input": "2021-11-10T09:25:24.429647Z",
     "iopub.status.busy": "2021-11-10T09:25:24.429062Z",
     "iopub.status.idle": "2021-11-10T09:25:24.431608Z",
     "shell.execute_reply": "2021-11-10T09:25:24.432056Z",
     "shell.execute_reply.started": "2021-11-10T08:35:03.286113Z"
    },
    "papermill": {
     "duration": 0.057262,
     "end_time": "2021-11-10T09:25:24.432197",
     "exception": false,
     "start_time": "2021-11-10T09:25:24.374935",
     "status": "completed"
    },
    "tags": []
   },
   "outputs": [],
   "source": [
    "def rmse(y_true, y_preds):\n",
    "    return np.sqrt(mean_squared_error(y_pred = y_preds, y_true = y_true))\n",
    "\n",
    "# 评估函数\n",
    "def score(y_true, y_preds):\n",
    "    # 相关性技巧评分\n",
    "    accskill_score = 0\n",
    "    # RMSE\n",
    "    rmse_scores = 0\n",
    "    a = [1.5] * 4 + [2] * 7 + [3] * 7 + [4] * 6\n",
    "    y_true_mean = np.mean(y_true, axis=0)\n",
    "    y_pred_mean = np.mean(y_preds, axis=0)\n",
    "    for i in range(24):\n",
    "        fenzi = np.sum((y_true[:, i] - y_true_mean[i]) * (y_preds[:, i] - y_pred_mean[i]))\n",
    "        fenmu = np.sqrt(np.sum((y_true[:, i] - y_true_mean[i])**2) * np.sum((y_preds[:, i] - y_pred_mean[i])**2))\n",
    "        cor_i = fenzi / fenmu\n",
    "        accskill_score += a[i] * np.log(i+1) * cor_i\n",
    "        rmse_score = rmse(y_true[:, i], y_preds[:, i])\n",
    "        rmse_scores += rmse_score\n",
    "    return 2/3.0 * accskill_score - rmse_scores"
   ]
  },
  {
   "cell_type": "code",
   "execution_count": 27,
   "metadata": {
    "execution": {
     "iopub.execute_input": "2021-11-10T09:25:24.537353Z",
     "iopub.status.busy": "2021-11-10T09:25:24.536763Z",
     "iopub.status.idle": "2021-11-10T09:25:24.981477Z",
     "shell.execute_reply": "2021-11-10T09:25:24.981909Z",
     "shell.execute_reply.started": "2021-11-10T08:35:03.765488Z"
    },
    "papermill": {
     "duration": 0.504348,
     "end_time": "2021-11-10T09:25:24.982067",
     "exception": false,
     "start_time": "2021-11-10T09:25:24.477719",
     "status": "completed"
    },
    "tags": []
   },
   "outputs": [
    {
     "name": "stdout",
     "output_type": "stream",
     "text": [
      "Model(\n",
      "  (conv1): Conv2d(6, 32, kernel_size=(7, 7), stride=(2, 2), padding=(3, 3))\n",
      "  (conv2): Conv2d(32, 32, kernel_size=(3, 3), stride=(1, 1), padding=(1, 1))\n",
      "  (bn): BatchNorm2d(32, eps=1e-05, momentum=0.1, affine=True, track_running_stats=True)\n",
      "  (avgpool): AvgPool2d(kernel_size=2, stride=2, padding=0)\n",
      "  (flatten): Flatten(start_dim=1, end_dim=-1)\n",
      "  (lstm1): LSTM(3456, 2048, batch_first=True)\n",
      "  (lstm2): LSTM(2048, 1024, batch_first=True)\n",
      "  (fc): Linear(in_features=1024, out_features=24, bias=True)\n",
      ")\n"
     ]
    }
   ],
   "source": [
    "model = Model()\n",
    "print(model)"
   ]
  },
  {
   "cell_type": "markdown",
   "metadata": {
    "papermill": {
     "duration": 0.044825,
     "end_time": "2021-11-10T09:25:25.073027",
     "exception": false,
     "start_time": "2021-11-10T09:25:25.028202",
     "status": "completed"
    },
    "tags": []
   },
   "source": [
    "考虑到本次任务的评价指标score=2/3×accskill-RMSE，其中RMSE是24个月的rmse的累计值，我们这里可以自定义评价指标中的RMSE作为损失函数。"
   ]
  },
  {
   "cell_type": "code",
   "execution_count": 28,
   "metadata": {
    "execution": {
     "iopub.execute_input": "2021-11-10T09:25:25.168798Z",
     "iopub.status.busy": "2021-11-10T09:25:25.168003Z",
     "iopub.status.idle": "2021-11-10T09:25:25.170478Z",
     "shell.execute_reply": "2021-11-10T09:25:25.170086Z",
     "shell.execute_reply.started": "2021-11-10T08:35:06.590364Z"
    },
    "papermill": {
     "duration": 0.052236,
     "end_time": "2021-11-10T09:25:25.170594",
     "exception": false,
     "start_time": "2021-11-10T09:25:25.118358",
     "status": "completed"
    },
    "tags": []
   },
   "outputs": [],
   "source": [
    "# 采用RMSE作为损失函数\n",
    "def RMSELoss(y_pred,y_true):\n",
    "    loss = torch.sqrt(torch.mean((y_pred-y_true)**2, dim=0)).sum()\n",
    "    return loss"
   ]
  },
  {
   "cell_type": "code",
   "execution_count": 29,
   "metadata": {
    "execution": {
     "iopub.execute_input": "2021-11-10T09:25:25.273264Z",
     "iopub.status.busy": "2021-11-10T09:25:25.272445Z",
     "iopub.status.idle": "2021-11-10T09:26:21.119405Z",
     "shell.execute_reply": "2021-11-10T09:26:21.119950Z",
     "shell.execute_reply.started": "2021-11-10T08:37:07.273086Z"
    },
    "papermill": {
     "duration": 55.904879,
     "end_time": "2021-11-10T09:26:21.120168",
     "exception": false,
     "start_time": "2021-11-10T09:25:25.215289",
     "status": "completed"
    },
    "tags": []
   },
   "outputs": [
    {
     "name": "stdout",
     "output_type": "stream",
     "text": [
      "Epoch: 1/10\n"
     ]
    },
    {
     "name": "stderr",
     "output_type": "stream",
     "text": [
      "100%|██████████| 100/100 [00:04<00:00, 20.67it/s]\n"
     ]
    },
    {
     "name": "stdout",
     "output_type": "stream",
     "text": [
      "Training Loss: 18.423\n"
     ]
    },
    {
     "name": "stderr",
     "output_type": "stream",
     "text": [
      "4it [00:00, 52.20it/s]\n"
     ]
    },
    {
     "name": "stdout",
     "output_type": "stream",
     "text": [
      "Validation Loss: 17.787\n",
      "Score: -10.458\n",
      "Epoch: 2/10\n"
     ]
    },
    {
     "name": "stderr",
     "output_type": "stream",
     "text": [
      "100%|██████████| 100/100 [00:04<00:00, 21.10it/s]\n"
     ]
    },
    {
     "name": "stdout",
     "output_type": "stream",
     "text": [
      "Training Loss: 16.106\n"
     ]
    },
    {
     "name": "stderr",
     "output_type": "stream",
     "text": [
      "4it [00:00, 52.00it/s]\n"
     ]
    },
    {
     "name": "stdout",
     "output_type": "stream",
     "text": [
      "Validation Loss: 16.873\n",
      "Score: -15.903\n",
      "Epoch: 3/10\n"
     ]
    },
    {
     "name": "stderr",
     "output_type": "stream",
     "text": [
      "100%|██████████| 100/100 [00:04<00:00, 21.29it/s]\n"
     ]
    },
    {
     "name": "stdout",
     "output_type": "stream",
     "text": [
      "Training Loss: 15.436\n"
     ]
    },
    {
     "name": "stderr",
     "output_type": "stream",
     "text": [
      "4it [00:00, 52.55it/s]\n"
     ]
    },
    {
     "name": "stdout",
     "output_type": "stream",
     "text": [
      "Validation Loss: 16.488\n",
      "Score: -28.155\n",
      "Epoch: 4/10\n"
     ]
    },
    {
     "name": "stderr",
     "output_type": "stream",
     "text": [
      "100%|██████████| 100/100 [00:04<00:00, 21.25it/s]\n"
     ]
    },
    {
     "name": "stdout",
     "output_type": "stream",
     "text": [
      "Training Loss: 15.036\n"
     ]
    },
    {
     "name": "stderr",
     "output_type": "stream",
     "text": [
      "4it [00:00, 53.23it/s]\n"
     ]
    },
    {
     "name": "stdout",
     "output_type": "stream",
     "text": [
      "Validation Loss: 16.916\n",
      "Score: -22.716\n",
      "Epoch: 5/10\n"
     ]
    },
    {
     "name": "stderr",
     "output_type": "stream",
     "text": [
      "100%|██████████| 100/100 [00:04<00:00, 21.27it/s]\n"
     ]
    },
    {
     "name": "stdout",
     "output_type": "stream",
     "text": [
      "Training Loss: 14.674\n"
     ]
    },
    {
     "name": "stderr",
     "output_type": "stream",
     "text": [
      "4it [00:00, 52.23it/s]\n"
     ]
    },
    {
     "name": "stdout",
     "output_type": "stream",
     "text": [
      "Validation Loss: 16.502\n",
      "Score: -23.859\n",
      "Epoch: 6/10\n"
     ]
    },
    {
     "name": "stderr",
     "output_type": "stream",
     "text": [
      "100%|██████████| 100/100 [00:04<00:00, 21.22it/s]\n"
     ]
    },
    {
     "name": "stdout",
     "output_type": "stream",
     "text": [
      "Training Loss: 14.167\n"
     ]
    },
    {
     "name": "stderr",
     "output_type": "stream",
     "text": [
      "4it [00:00, 52.26it/s]\n"
     ]
    },
    {
     "name": "stdout",
     "output_type": "stream",
     "text": [
      "Validation Loss: 17.340\n",
      "Score: -19.200\n",
      "Epoch: 7/10\n"
     ]
    },
    {
     "name": "stderr",
     "output_type": "stream",
     "text": [
      "100%|██████████| 100/100 [00:04<00:00, 21.26it/s]\n"
     ]
    },
    {
     "name": "stdout",
     "output_type": "stream",
     "text": [
      "Training Loss: 13.599\n"
     ]
    },
    {
     "name": "stderr",
     "output_type": "stream",
     "text": [
      "4it [00:00, 52.89it/s]\n"
     ]
    },
    {
     "name": "stdout",
     "output_type": "stream",
     "text": [
      "Validation Loss: 18.158\n",
      "Score: -17.133\n",
      "Epoch: 8/10\n"
     ]
    },
    {
     "name": "stderr",
     "output_type": "stream",
     "text": [
      "100%|██████████| 100/100 [00:04<00:00, 21.00it/s]\n"
     ]
    },
    {
     "name": "stdout",
     "output_type": "stream",
     "text": [
      "Training Loss: 12.915\n"
     ]
    },
    {
     "name": "stderr",
     "output_type": "stream",
     "text": [
      "4it [00:00, 40.89it/s]\n"
     ]
    },
    {
     "name": "stdout",
     "output_type": "stream",
     "text": [
      "Validation Loss: 21.207\n",
      "Score: -26.217\n",
      "Epoch: 9/10\n"
     ]
    },
    {
     "name": "stderr",
     "output_type": "stream",
     "text": [
      "100%|██████████| 100/100 [00:04<00:00, 20.92it/s]\n"
     ]
    },
    {
     "name": "stdout",
     "output_type": "stream",
     "text": [
      "Training Loss: 12.190\n"
     ]
    },
    {
     "name": "stderr",
     "output_type": "stream",
     "text": [
      "4it [00:00, 51.79it/s]\n"
     ]
    },
    {
     "name": "stdout",
     "output_type": "stream",
     "text": [
      "Validation Loss: 17.459\n",
      "Score: -37.787\n",
      "Epoch: 10/10\n"
     ]
    },
    {
     "name": "stderr",
     "output_type": "stream",
     "text": [
      "100%|██████████| 100/100 [00:04<00:00, 21.26it/s]\n"
     ]
    },
    {
     "name": "stdout",
     "output_type": "stream",
     "text": [
      "Training Loss: 11.559\n"
     ]
    },
    {
     "name": "stderr",
     "output_type": "stream",
     "text": [
      "4it [00:00, 52.77it/s]"
     ]
    },
    {
     "name": "stdout",
     "output_type": "stream",
     "text": [
      "Validation Loss: 17.482\n",
      "Score: -14.426\n"
     ]
    },
    {
     "name": "stderr",
     "output_type": "stream",
     "text": [
      "\n"
     ]
    }
   ],
   "source": [
    "model_weights = './task03_model_weights.pth'\n",
    "device = 'cuda' if torch.cuda.is_available() else 'cpu'\n",
    "model = Model().to(device)\n",
    "criterion = RMSELoss\n",
    "optimizer = optim.Adam(model.parameters(), lr=1e-3, weight_decay=0.001)  # weight_decay是L2正则化参数\n",
    "epochs = 10\n",
    "train_losses, valid_losses = [], []\n",
    "scores = []\n",
    "best_score = float('-inf')\n",
    "preds = np.zeros((len(y_valid),24))\n",
    "\n",
    "for epoch in range(epochs):\n",
    "    print('Epoch: {}/{}'.format(epoch+1, epochs))\n",
    "    \n",
    "    # 模型训练\n",
    "    model.train()\n",
    "    losses = 0\n",
    "    for data, labels in tqdm(trainloader):\n",
    "        data = data.to(device)\n",
    "        labels = labels.to(device)\n",
    "        optimizer.zero_grad()\n",
    "        pred = model(data)\n",
    "        loss = criterion(pred, labels)\n",
    "        losses += loss.cpu().detach().numpy()\n",
    "        loss.backward()\n",
    "        optimizer.step()\n",
    "    train_loss = losses / len(trainloader)\n",
    "    train_losses.append(train_loss)\n",
    "    print('Training Loss: {:.3f}'.format(train_loss))\n",
    "    \n",
    "    # 模型验证\n",
    "    model.eval()\n",
    "    losses = 0\n",
    "    with torch.no_grad():\n",
    "        for i, data in tqdm(enumerate(validloader)):\n",
    "            data, labels = data\n",
    "            data = data.to(device)\n",
    "            labels = labels.to(device)\n",
    "            pred = model(data)\n",
    "            loss = criterion(pred, labels)\n",
    "            losses += loss.cpu().detach().numpy()\n",
    "            preds[i*batch_size:(i+1)*batch_size] = pred.detach().cpu().numpy()\n",
    "    valid_loss = losses / len(validloader)\n",
    "    valid_losses.append(valid_loss)\n",
    "    print('Validation Loss: {:.3f}'.format(valid_loss))\n",
    "    s = score(y_valid, preds)\n",
    "    scores.append(s)\n",
    "    print('Score: {:.3f}'.format(s))\n",
    "    \n",
    "    # 保存最佳模型权重\n",
    "    if s > best_score:\n",
    "        best_score = s\n",
    "        checkpoint = {'best_score': s,\n",
    "                      'state_dict': model.state_dict()}\n",
    "        torch.save(checkpoint, model_weights)"
   ]
  },
  {
   "cell_type": "code",
   "execution_count": 30,
   "metadata": {
    "execution": {
     "iopub.execute_input": "2021-11-10T09:26:21.428391Z",
     "iopub.status.busy": "2021-11-10T09:26:21.427573Z",
     "iopub.status.idle": "2021-11-10T09:26:21.430216Z",
     "shell.execute_reply": "2021-11-10T09:26:21.429741Z",
     "shell.execute_reply.started": "2021-11-10T08:37:59.516491Z"
    },
    "papermill": {
     "duration": 0.15808,
     "end_time": "2021-11-10T09:26:21.430330",
     "exception": false,
     "start_time": "2021-11-10T09:26:21.272250",
     "status": "completed"
    },
    "tags": []
   },
   "outputs": [],
   "source": [
    "# 绘制训练/验证曲线\n",
    "def training_vis(train_losses, valid_losses):\n",
    "    # 绘制损失函数曲线\n",
    "    fig = plt.figure(figsize=(8,4))\n",
    "    # subplot loss\n",
    "    ax1 = fig.add_subplot(121)\n",
    "    ax1.plot(train_losses, label='train_loss')\n",
    "    ax1.plot(valid_losses,label='val_loss')\n",
    "    ax1.set_xlabel('Epochs')\n",
    "    ax1.set_ylabel('Loss')\n",
    "    ax1.set_title('Loss on Training and Validation Data')\n",
    "    ax1.legend()\n",
    "    plt.tight_layout()"
   ]
  },
  {
   "cell_type": "code",
   "execution_count": 31,
   "metadata": {
    "execution": {
     "iopub.execute_input": "2021-11-10T09:26:21.749325Z",
     "iopub.status.busy": "2021-11-10T09:26:21.732622Z",
     "iopub.status.idle": "2021-11-10T09:26:22.127478Z",
     "shell.execute_reply": "2021-11-10T09:26:22.128264Z",
     "shell.execute_reply.started": "2021-11-10T08:37:59.537815Z"
    },
    "papermill": {
     "duration": 0.549238,
     "end_time": "2021-11-10T09:26:22.128511",
     "exception": false,
     "start_time": "2021-11-10T09:26:21.579273",
     "status": "completed"
    },
    "tags": []
   },
   "outputs": [
    {
     "data": {
      "image/png": "[encoded data removed]",
      "text/plain": [
       "<Figure size 576x288 with 1 Axes>"
      ]
     },
     "metadata": {
      "needs_background": "light"
     },
     "output_type": "display_data"
    }
   ],
   "source": [
    "training_vis(train_losses, valid_losses)"
   ]
  },
  {
   "cell_type": "markdown",
   "metadata": {
    "papermill": {
     "duration": 0.225408,
     "end_time": "2021-11-10T09:26:22.625997",
     "exception": false,
     "start_time": "2021-11-10T09:26:22.400589",
     "status": "completed"
    },
    "tags": []
   },
   "source": [
    "我们通常会绘制训练/验证曲线来观察模型的拟合情况，上图中我们分别绘制了训练过程中训练集和验证集损失函数变化曲线。可以看到，训练集的损失函数下降很快，但是验证集的损失函数是震荡的，没有明显的下降，这说明模型的学习效果较差，并存在过拟合问题，需要调整相关的参数。"
   ]
  },
  {
   "cell_type": "markdown",
   "metadata": {
    "papermill": {
     "duration": 0.149048,
     "end_time": "2021-11-10T09:26:22.925730",
     "exception": false,
     "start_time": "2021-11-10T09:26:22.776682",
     "status": "completed"
    },
    "tags": []
   },
   "source": [
    "#### 模型评估"
   ]
  },
  {
   "cell_type": "markdown",
   "metadata": {
    "papermill": {
     "duration": 0.150117,
     "end_time": "2021-11-10T09:26:23.225638",
     "exception": false,
     "start_time": "2021-11-10T09:26:23.075521",
     "status": "completed"
    },
    "tags": []
   },
   "source": [
    "最后，我们在测试集上评估模型的训练结果。"
   ]
  },
  {
   "cell_type": "code",
   "execution_count": 32,
   "metadata": {
    "execution": {
     "iopub.execute_input": "2021-11-10T09:26:23.525788Z",
     "iopub.status.busy": "2021-11-10T09:26:23.525168Z",
     "iopub.status.idle": "2021-11-10T09:26:28.319525Z",
     "shell.execute_reply": "2021-11-10T09:26:28.319915Z",
     "shell.execute_reply.started": "2021-11-10T08:54:41.915357Z"
    },
    "papermill": {
     "duration": 4.946498,
     "end_time": "2021-11-10T09:26:28.320076",
     "exception": false,
     "start_time": "2021-11-10T09:26:23.373578",
     "status": "completed"
    },
    "tags": []
   },
   "outputs": [
    {
     "data": {
      "text/plain": [
       "<All keys matched successfully>"
      ]
     },
     "execution_count": 32,
     "metadata": {},
     "output_type": "execute_result"
    }
   ],
   "source": [
    "# 加载最佳模型权重\n",
    "checkpoint = torch.load('../input/ai-earth-model-weights/task03_model_weights.pth')\n",
    "model = Model()\n",
    "model.load_state_dict(checkpoint['state_dict'])"
   ]
  },
  {
   "cell_type": "code",
   "execution_count": 33,
   "metadata": {
    "execution": {
     "iopub.execute_input": "2021-11-10T09:26:28.625319Z",
     "iopub.status.busy": "2021-11-10T09:26:28.624476Z",
     "iopub.status.idle": "2021-11-10T09:26:28.626951Z",
     "shell.execute_reply": "2021-11-10T09:26:28.626515Z",
     "shell.execute_reply.started": "2021-11-10T08:54:49.04339Z"
    },
    "papermill": {
     "duration": 0.156625,
     "end_time": "2021-11-10T09:26:28.627069",
     "exception": false,
     "start_time": "2021-11-10T09:26:28.470444",
     "status": "completed"
    },
    "tags": []
   },
   "outputs": [],
   "source": [
    "# 测试集路径\n",
    "test_path = '../input/ai-earth-tests/'\n",
    "# 测试集标签路径\n",
    "test_label_path = '../input/ai-earth-tests-labels/'"
   ]
  },
  {
   "cell_type": "code",
   "execution_count": 34,
   "metadata": {
    "execution": {
     "iopub.execute_input": "2021-11-10T09:26:28.929724Z",
     "iopub.status.busy": "2021-11-10T09:26:28.929173Z",
     "iopub.status.idle": "2021-11-10T09:26:31.894697Z",
     "shell.execute_reply": "2021-11-10T09:26:31.895219Z",
     "shell.execute_reply.started": "2021-11-10T08:54:56.246479Z"
    },
    "papermill": {
     "duration": 3.119171,
     "end_time": "2021-11-10T09:26:31.895385",
     "exception": false,
     "start_time": "2021-11-10T09:26:28.776214",
     "status": "completed"
    },
    "tags": []
   },
   "outputs": [],
   "source": [
    "import os\n",
    "\n",
    "# 读取测试数据和测试数据的标签，并记录每个测试样本的起始月份用于之后构造月份特征\n",
    "files = os.listdir(test_path)\n",
    "X_test = []\n",
    "y_test = []\n",
    "first_months = []  # 样本起始月份\n",
    "for file in files:\n",
    "    X_test.append(np.load(test_path + file))\n",
    "    y_test.append(np.load(test_label_path + file))\n",
    "    first_months.append(int(file.split('_')[2]))"
   ]
  },
  {
   "cell_type": "code",
   "execution_count": 35,
   "metadata": {
    "execution": {
     "iopub.execute_input": "2021-11-10T09:26:32.211381Z",
     "iopub.status.busy": "2021-11-10T09:26:32.210614Z",
     "iopub.status.idle": "2021-11-10T09:26:32.248569Z",
     "shell.execute_reply": "2021-11-10T09:26:32.249226Z",
     "shell.execute_reply.started": "2021-11-10T08:55:00.037468Z"
    },
    "papermill": {
     "duration": 0.192811,
     "end_time": "2021-11-10T09:26:32.249387",
     "exception": false,
     "start_time": "2021-11-10T09:26:32.056576",
     "status": "completed"
    },
    "tags": []
   },
   "outputs": [
    {
     "data": {
      "text/plain": [
       "((103, 12, 24, 72, 4), (103, 24))"
      ]
     },
     "execution_count": 35,
     "metadata": {},
     "output_type": "execute_result"
    }
   ],
   "source": [
    "X_test = np.array(X_test)\n",
    "y_test = np.array(y_test)\n",
    "X_test.shape, y_test.shape"
   ]
  },
  {
   "cell_type": "code",
   "execution_count": 36,
   "metadata": {
    "execution": {
     "iopub.execute_input": "2021-11-10T09:26:32.563311Z",
     "iopub.status.busy": "2021-11-10T09:26:32.562190Z",
     "iopub.status.idle": "2021-11-10T09:26:35.298239Z",
     "shell.execute_reply": "2021-11-10T09:26:35.297765Z",
     "shell.execute_reply.started": "2021-11-10T08:55:43.648698Z"
    },
    "papermill": {
     "duration": 2.896704,
     "end_time": "2021-11-10T09:26:35.298373",
     "exception": false,
     "start_time": "2021-11-10T09:26:32.401669",
     "status": "completed"
    },
    "tags": []
   },
   "outputs": [
    {
     "data": {
      "text/plain": [
       "(103, 12, 24, 72, 1)"
      ]
     },
     "execution_count": 36,
     "metadata": {},
     "output_type": "execute_result"
    }
   ],
   "source": [
    "# 构造一个维度为103*12*24*72的矩阵，矩阵中的每个值为所在月份的sin函数值\n",
    "test_month_sin = np.zeros((103, 12, 24, 72, 1))\n",
    "for y in range(103):\n",
    "    for m in range(12):\n",
    "        for lat in range(24):\n",
    "            for lon in range(72):\n",
    "                test_month_sin[y, m, lat, lon] = math.sin(2 * math.pi * ((m + first_months[y]-1) % 12) / 12)\n",
    "                \n",
    "test_month_sin.shape"
   ]
  },
  {
   "cell_type": "code",
   "execution_count": 37,
   "metadata": {
    "execution": {
     "iopub.execute_input": "2021-11-10T09:26:35.604627Z",
     "iopub.status.busy": "2021-11-10T09:26:35.603568Z",
     "iopub.status.idle": "2021-11-10T09:26:38.163083Z",
     "shell.execute_reply": "2021-11-10T09:26:38.162135Z",
     "shell.execute_reply.started": "2021-11-10T08:55:46.843147Z"
    },
    "papermill": {
     "duration": 2.71433,
     "end_time": "2021-11-10T09:26:38.163235",
     "exception": false,
     "start_time": "2021-11-10T09:26:35.448905",
     "status": "completed"
    },
    "tags": []
   },
   "outputs": [
    {
     "data": {
      "text/plain": [
       "(103, 12, 24, 72, 1)"
      ]
     },
     "execution_count": 37,
     "metadata": {},
     "output_type": "execute_result"
    }
   ],
   "source": [
    "# 构造一个维度为103*12*24*72的矩阵，矩阵中的每个值为所在月份的cos函数值\n",
    "test_month_cos = np.zeros((103, 12, 24, 72, 1))\n",
    "for y in range(103):\n",
    "    for m in range(12):\n",
    "        for lat in range(24):\n",
    "            for lon in range(72):\n",
    "                test_month_cos[y, m, lat, lon] = math.cos(2 * math.pi * ((m + first_months[y]-1) % 12) / 12)\n",
    "                \n",
    "test_month_cos.shape"
   ]
  },
  {
   "cell_type": "code",
   "execution_count": 38,
   "metadata": {
    "execution": {
     "iopub.execute_input": "2021-11-10T09:26:38.480942Z",
     "iopub.status.busy": "2021-11-10T09:26:38.477524Z",
     "iopub.status.idle": "2021-11-10T09:26:38.601413Z",
     "shell.execute_reply": "2021-11-10T09:26:38.600796Z",
     "shell.execute_reply.started": "2021-11-10T08:55:49.806402Z"
    },
    "papermill": {
     "duration": 0.283781,
     "end_time": "2021-11-10T09:26:38.601551",
     "exception": false,
     "start_time": "2021-11-10T09:26:38.317770",
     "status": "completed"
    },
    "tags": []
   },
   "outputs": [
    {
     "data": {
      "text/plain": [
       "(103, 12, 24, 72, 6)"
      ]
     },
     "execution_count": 38,
     "metadata": {},
     "output_type": "execute_result"
    }
   ],
   "source": [
    "# 构造测试集\n",
    "X_test = np.concatenate([X_test, test_month_sin, test_month_cos], axis=-1)\n",
    "X_test.shape"
   ]
  },
  {
   "cell_type": "code",
   "execution_count": 39,
   "metadata": {
    "execution": {
     "iopub.execute_input": "2021-11-10T09:26:38.913539Z",
     "iopub.status.busy": "2021-11-10T09:26:38.912509Z",
     "iopub.status.idle": "2021-11-10T09:26:38.949669Z",
     "shell.execute_reply": "2021-11-10T09:26:38.949186Z",
     "shell.execute_reply.started": "2021-11-10T08:56:29.728334Z"
    },
    "papermill": {
     "duration": 0.195356,
     "end_time": "2021-11-10T09:26:38.949790",
     "exception": false,
     "start_time": "2021-11-10T09:26:38.754434",
     "status": "completed"
    },
    "tags": []
   },
   "outputs": [],
   "source": [
    "testset = AIEarthDataset(X_test, y_test)\n",
    "testloader = DataLoader(testset, batch_size=batch_size, shuffle=False)"
   ]
  },
  {
   "cell_type": "code",
   "execution_count": 40,
   "metadata": {
    "execution": {
     "iopub.execute_input": "2021-11-10T09:26:39.264750Z",
     "iopub.status.busy": "2021-11-10T09:26:39.263435Z",
     "iopub.status.idle": "2021-11-10T09:26:39.402020Z",
     "shell.execute_reply": "2021-11-10T09:26:39.401284Z",
     "shell.execute_reply.started": "2021-11-10T08:56:42.108524Z"
    },
    "papermill": {
     "duration": 0.298967,
     "end_time": "2021-11-10T09:26:39.402188",
     "exception": false,
     "start_time": "2021-11-10T09:26:39.103221",
     "status": "completed"
    },
    "tags": []
   },
   "outputs": [
    {
     "name": "stderr",
     "output_type": "stream",
     "text": [
      "4it [00:00, 65.03it/s]"
     ]
    },
    {
     "name": "stdout",
     "output_type": "stream",
     "text": [
      "Score: 14.946\n"
     ]
    },
    {
     "name": "stderr",
     "output_type": "stream",
     "text": [
      "\n"
     ]
    }
   ],
   "source": [
    "# 在测试集上评估模型效果\n",
    "model.eval()\n",
    "model.to(device)\n",
    "preds = np.zeros((len(y_test),24))\n",
    "for i, data in tqdm(enumerate(testloader)):\n",
    "    data, labels = data\n",
    "    data = data.to(device)\n",
    "    labels = labels.to(device)\n",
    "    pred = model(data)\n",
    "    preds[i*batch_size:(i+1)*batch_size] = pred.detach().cpu().numpy()\n",
    "s = score(y_test, preds)\n",
    "print('Score: {:.3f}'.format(s))"
   ]
  },
  {
   "cell_type": "markdown",
   "metadata": {
    "papermill": {
     "duration": 0.15343,
     "end_time": "2021-11-10T09:26:39.715114",
     "exception": false,
     "start_time": "2021-11-10T09:26:39.561684",
     "status": "completed"
    },
    "tags": []
   },
   "source": [
    "## 总结"
   ]
  },
  {
   "cell_type": "markdown",
   "metadata": {
    "papermill": {
     "duration": 0.153001,
     "end_time": "2021-11-10T09:26:40.021240",
     "exception": false,
     "start_time": "2021-11-10T09:26:39.868239",
     "status": "completed"
    },
    "tags": []
   },
   "source": [
    "- 该方案在数据处理部分增加了一组月份特征，个人认为在使用了时序模型的情况下增加的这组特征收益不高，并且由于维度增加会使得训练数据占用内存大大增加，在本赛题中对模型的效果提升不明显。不过在其他场景中这种特征构造方法仍然是值得借鉴的。\n",
    "- 该方案构造模型的思路非常适合初学者学习，灵活地将不同模型串行结合能够结合模型各自的优势，这种模型构造方法需要注意的是一个模型的输出维度与另一个模型接受的输入维度要相互匹配。"
   ]
  },
  {
   "cell_type": "markdown",
   "metadata": {
    "papermill": {
     "duration": 0.154401,
     "end_time": "2021-11-10T09:26:40.329808",
     "exception": false,
     "start_time": "2021-11-10T09:26:40.175407",
     "status": "completed"
    },
    "tags": []
   },
   "source": [
    "## 参考文献\n",
    "1. “学习AI的打工人”经验分享：https://tianchi.aliyun.com/notebook-ai/detail?spm=5176.12586969.1002.18.561d5330HKwYOW&postId=196536"
   ]
  }
 ],
 "metadata": {
  "kernelspec": {
   "display_name": "Python 3",
   "language": "python",
   "name": "python3"
  },
  "language_info": {
   "codemirror_mode": {
    "name": "ipython",
    "version": 3
   },
   "file_extension": ".py",
   "mimetype": "text/x-python",
   "name": "python",
   "nbconvert_exporter": "python",
   "pygments_lexer": "ipython3",
   "version": "3.7.3"
  },
  "papermill": {
   "default_parameters": {},
   "duration": 711.969076,
   "end_time": "2021-11-10T09:26:42.429334",
   "environment_variables": {},
   "exception": null,
   "input_path": "__notebook__.ipynb",
   "output_path": "__notebook__.ipynb",
   "parameters": {},
   "start_time": "2021-11-10T09:14:50.460258",
   "version": "2.3.3"
  }
 },
 "nbformat": 4,
 "nbformat_minor": 5
}
