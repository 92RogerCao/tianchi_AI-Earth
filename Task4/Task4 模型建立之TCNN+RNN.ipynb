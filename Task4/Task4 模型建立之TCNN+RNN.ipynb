{
 "cells": [
  {
   "cell_type": "markdown",
   "metadata": {},
   "source": [
    "# Datawhale 气象海洋预测-Task4 模型建立之 TCNN+RNN\n",
    "本次任务我们将学习来自TOP选手“swg-lhl”的冠军建模方案，该方案中采用的模型是TCNN+RNN\n",
    "\n",
    "在Task3中我们学习了CNN+LSTM模型，但是LSTM有四个门，构建一个LSTM层的参数量非常大，这就带来以下问题：一是参数量大在数据量小的情况下模型容易过拟合；二是为了尽量避免过拟合，在有限的数据集下我们无法构建更深层的模型，难以挖掘到更复杂的信息，这一点在可用的特征数非常少的情况下是很不利的。相较于LSTM，CNN的参数量只与过滤器的大小有关，在各类任务中往往都有不错的表现，因此我们可以考虑同样用卷积操作来挖掘时间信息。但是如果用三维卷积来同时挖掘时间和空间信息，假设使用的过滤器大小为(T_f, H_f, W_f)，那么一层的参数量就是T_f×H_f×W_f，这样的参数量仍然是比较大的。为了进一步降低每一层的参数，增加模型深度，我们本次学习的这个TOP方案对时间和空间分别进行卷积操作，即采用TCN单元挖掘时间信息，然后输入CNN单元中挖掘空间信息，将TCN单元+CNN单元的串行结构称为TCNN层，通过堆叠多层的TCNN层就可以很好地挖掘到复杂的时空信息。同时，考虑到不同时间尺度下的时空信息对预测结果的影响可能是不同的，该方案采用了三个RNN层来抽取三种时间尺度下的特征，将三者拼接起来得到最终的预测结果。\n",
    "\n",
    "可以看出，该方案是基于给定的数据集情况、基于问题背景深刻理解后得出来的，希望同学们在学习的过程中能够深入思考，将这种建模方法灵活迁移到其他任务中。"
   ]
  },
  {
   "cell_type": "markdown",
   "metadata": {},
   "source": [
    "## 学习目标\n",
    "1. 学习TOP方案的模型构建方法"
   ]
  },
  {
   "cell_type": "markdown",
   "metadata": {},
   "source": [
    "## 内容介绍\n",
    "1. 数据处理\n",
    "    - 数据扁平化\n",
    "    - 空值填充\n",
    "    - 构造数据集\n",
    "2. 模型构建\n",
    "    - 构造评估函数\n",
    "    - 模型构造\n",
    "    - 模型训练\n",
    "    - 模型评估\n",
    "3. 总结"
   ]
  },
  {
   "cell_type": "markdown",
   "metadata": {},
   "source": [
    "## 代码示例"
   ]
  },
  {
   "cell_type": "markdown",
   "metadata": {},
   "source": [
    "### 数据处理\n",
    "该TOP方案的数据处理主要包括三部分：\n",
    "1. 数据扁平化。\n",
    "2. 空值填充。\n",
    "3. 构造数据集\n",
    "在该方案中除了没有构造新的特征外，其他数据处理方法都与Task3基本相同，因此不多做赘述。"
   ]
  },
  {
   "cell_type": "code",
   "execution_count": 1,
   "metadata": {
    "execution": {
     "iopub.execute_input": "2021-11-07T11:32:41.439634Z",
     "iopub.status.busy": "2021-11-07T11:32:41.431440Z",
     "iopub.status.idle": "2021-11-07T11:32:43.645979Z",
     "shell.execute_reply": "2021-11-07T11:32:43.645292Z",
     "shell.execute_reply.started": "2021-11-07T11:22:11.718250Z"
    },
    "papermill": {
     "duration": 2.245092,
     "end_time": "2021-11-07T11:32:43.646157",
     "exception": false,
     "start_time": "2021-11-07T11:32:41.401065",
     "status": "completed"
    },
    "tags": []
   },
   "outputs": [],
   "source": [
    "import netCDF4 as nc\n",
    "import random\n",
    "import os\n",
    "from tqdm import tqdm\n",
    "import pandas as pd\n",
    "import numpy as np\n",
    "import matplotlib.pyplot as plt\n",
    "%matplotlib inline\n",
    "\n",
    "import torch\n",
    "from torch import nn, optim\n",
    "import torch.nn.functional as F\n",
    "from torch.utils.data import Dataset, DataLoader\n",
    "\n",
    "from sklearn.metrics import mean_squared_error"
   ]
  },
  {
   "cell_type": "code",
   "execution_count": 2,
   "metadata": {
    "execution": {
     "iopub.execute_input": "2021-11-07T11:32:43.703083Z",
     "iopub.status.busy": "2021-11-07T11:32:43.702422Z",
     "iopub.status.idle": "2021-11-07T11:32:43.706718Z",
     "shell.execute_reply": "2021-11-07T11:32:43.707099Z",
     "shell.execute_reply.started": "2021-11-07T11:22:17.072537Z"
    },
    "papermill": {
     "duration": 0.03493,
     "end_time": "2021-11-07T11:32:43.707228",
     "exception": false,
     "start_time": "2021-11-07T11:32:43.672298",
     "status": "completed"
    },
    "tags": []
   },
   "outputs": [],
   "source": [
    "# 固定随机种子\n",
    "SEED = 22\n",
    "\n",
    "def seed_everything(seed=42):\n",
    "    random.seed(seed)\n",
    "    os.environ['PYTHONHASHSEED'] = str(seed)\n",
    "    np.random.seed(seed)\n",
    "    torch.manual_seed(seed)\n",
    "    torch.cuda.manual_seed(seed)\n",
    "    torch.backends.cudnn.deterministic = True\n",
    "    \n",
    "seed_everything(SEED)"
   ]
  },
  {
   "cell_type": "code",
   "execution_count": 3,
   "metadata": {
    "execution": {
     "iopub.execute_input": "2021-11-07T11:32:43.806316Z",
     "iopub.status.busy": "2021-11-07T11:32:43.805429Z",
     "iopub.status.idle": "2021-11-07T11:32:43.809106Z",
     "shell.execute_reply": "2021-11-07T11:32:43.809544Z",
     "shell.execute_reply.started": "2021-11-07T11:22:34.845477Z"
    },
    "papermill": {
     "duration": 0.077409,
     "end_time": "2021-11-07T11:32:43.809691",
     "exception": false,
     "start_time": "2021-11-07T11:32:43.732282",
     "status": "completed"
    },
    "tags": []
   },
   "outputs": [
    {
     "name": "stdout",
     "output_type": "stream",
     "text": [
      "CUDA is available!  Training on GPU ...\n"
     ]
    }
   ],
   "source": [
    "# 查看GPU是否可用\n",
    "train_on_gpu = torch.cuda.is_available()\n",
    "\n",
    "if not train_on_gpu:\n",
    "    print('CUDA is not available.  Training on CPU ...')\n",
    "else:\n",
    "    print('CUDA is available!  Training on GPU ...')"
   ]
  },
  {
   "cell_type": "code",
   "execution_count": 4,
   "metadata": {
    "execution": {
     "iopub.execute_input": "2021-11-07T11:32:43.938252Z",
     "iopub.status.busy": "2021-11-07T11:32:43.937335Z",
     "iopub.status.idle": "2021-11-07T11:32:43.991840Z",
     "shell.execute_reply": "2021-11-07T11:32:43.991334Z",
     "shell.execute_reply.started": "2021-11-07T11:22:38.372763Z"
    },
    "papermill": {
     "duration": 0.156188,
     "end_time": "2021-11-07T11:32:43.991963",
     "exception": false,
     "start_time": "2021-11-07T11:32:43.835775",
     "status": "completed"
    },
    "tags": []
   },
   "outputs": [],
   "source": [
    "# 读取数据\n",
    "\n",
    "# 存放数据的路径\n",
    "path = '/kaggle/input/ninoprediction/'\n",
    "soda_train = nc.Dataset(path + 'SODA_train.nc')\n",
    "soda_label = nc.Dataset(path + 'SODA_label.nc')\n",
    "cmip_train = nc.Dataset(path + 'CMIP_train.nc')\n",
    "cmip_label = nc.Dataset(path + 'CMIP_label.nc')"
   ]
  },
  {
   "cell_type": "markdown",
   "metadata": {},
   "source": [
    "#### 数据扁平化\n",
    "采用滑窗构造数据集。"
   ]
  },
  {
   "cell_type": "code",
   "execution_count": 5,
   "metadata": {
    "execution": {
     "iopub.execute_input": "2021-11-07T11:32:44.053052Z",
     "iopub.status.busy": "2021-11-07T11:32:44.052369Z",
     "iopub.status.idle": "2021-11-07T11:32:44.055801Z",
     "shell.execute_reply": "2021-11-07T11:32:44.055258Z",
     "shell.execute_reply.started": "2021-11-07T11:22:41.386272Z"
    },
    "papermill": {
     "duration": 0.037368,
     "end_time": "2021-11-07T11:32:44.055938",
     "exception": false,
     "start_time": "2021-11-07T11:32:44.018570",
     "status": "completed"
    },
    "tags": []
   },
   "outputs": [],
   "source": [
    "def make_flatted(train_ds, label_ds, info, start_idx=0):\n",
    "    keys = ['sst', 't300', 'ua', 'va']\n",
    "    label_key = 'nino'\n",
    "    # 年数\n",
    "    years = info[1]\n",
    "    # 模式数\n",
    "    models = info[2]\n",
    "    \n",
    "    train_list = []\n",
    "    label_list = []\n",
    "    \n",
    "    # 将同种模式下的数据拼接起来\n",
    "    for model_i in range(models):\n",
    "        blocks = []\n",
    "        \n",
    "        # 对每个特征，取每条数据的前12个月进行拼接\n",
    "        for key in keys:\n",
    "            block = train_ds[key][start_idx + model_i * years: start_idx + (model_i + 1) * years, :12].reshape(-1, 24, 72, 1).data\n",
    "            blocks.append(block)\n",
    "        \n",
    "        # 将所有特征在最后一个维度上拼接起来\n",
    "        train_flatted = np.concatenate(blocks, axis=-1)\n",
    "        \n",
    "        # 取12-23月的标签进行拼接，注意加上最后一年的最后12个月的标签（与最后一年12-23月的标签共同构成最后一年前12个月的预测目标）\n",
    "        label_flatted = np.concatenate([\n",
    "            label_ds[label_key][start_idx + model_i * years: start_idx + (model_i + 1) * years, 12: 24].reshape(-1).data,\n",
    "            label_ds[label_key][start_idx + (model_i + 1) * years - 1, 24: 36].reshape(-1).data\n",
    "        ], axis=0)\n",
    "        \n",
    "        train_list.append(train_flatted)\n",
    "        label_list.append(label_flatted)\n",
    "        \n",
    "    return train_list, label_list"
   ]
  },
  {
   "cell_type": "code",
   "execution_count": 6,
   "metadata": {
    "execution": {
     "iopub.execute_input": "2021-11-07T11:32:44.114429Z",
     "iopub.status.busy": "2021-11-07T11:32:44.113857Z",
     "iopub.status.idle": "2021-11-07T11:33:35.423369Z",
     "shell.execute_reply": "2021-11-07T11:33:35.423920Z",
     "shell.execute_reply.started": "2021-11-07T11:22:43.054065Z"
    },
    "papermill": {
     "duration": 51.342264,
     "end_time": "2021-11-07T11:33:35.424098",
     "exception": false,
     "start_time": "2021-11-07T11:32:44.081834",
     "status": "completed"
    },
    "tags": []
   },
   "outputs": [
    {
     "data": {
      "text/plain": [
       "((1, 1200, 24, 72, 4), (15, 1812, 24, 72, 4), (17, 1680, 24, 72, 4))"
      ]
     },
     "execution_count": 6,
     "metadata": {},
     "output_type": "execute_result"
    }
   ],
   "source": [
    "soda_info = ('soda', 100, 1)\n",
    "cmip6_info = ('cmip6', 151, 15)\n",
    "cmip5_info = ('cmip5', 140, 17)\n",
    "\n",
    "soda_trains, soda_labels = make_flatted(soda_train, soda_label, soda_info)\n",
    "cmip6_trains, cmip6_labels = make_flatted(cmip_train, cmip_label, cmip6_info)\n",
    "cmip5_trains, cmip5_labels = make_flatted(cmip_train, cmip_label, cmip5_info, cmip6_info[1]*cmip6_info[2])\n",
    "\n",
    "# 得到扁平化后的数据维度为（模式数×序列长度×纬度×经度×特征数），其中序列长度=年数×12\n",
    "np.shape(soda_trains), np.shape(cmip6_trains), np.shape(cmip5_trains)"
   ]
  },
  {
   "cell_type": "markdown",
   "metadata": {},
   "source": [
    "#### 空值填充\n",
    "将空值填充为0。"
   ]
  },
  {
   "cell_type": "code",
   "execution_count": 8,
   "metadata": {
    "execution": {
     "iopub.execute_input": "2021-11-07T11:33:35.538420Z",
     "iopub.status.busy": "2021-11-07T11:33:35.537032Z",
     "iopub.status.idle": "2021-11-07T11:33:35.589717Z",
     "shell.execute_reply": "2021-11-07T11:33:35.590116Z",
     "shell.execute_reply.started": "2021-11-07T11:23:30.781276Z"
    },
    "papermill": {
     "duration": 0.083633,
     "end_time": "2021-11-07T11:33:35.590263",
     "exception": false,
     "start_time": "2021-11-07T11:33:35.506630",
     "status": "completed"
    },
    "tags": []
   },
   "outputs": [
    {
     "name": "stdout",
     "output_type": "stream",
     "text": [
      "Number of null in soda_trains after fillna: 0\n"
     ]
    }
   ],
   "source": [
    "# 填充SODA数据中的空值\n",
    "soda_trains = np.array(soda_trains)\n",
    "soda_trains_nan = np.isnan(soda_trains)\n",
    "soda_trains[soda_trains_nan] = 0\n",
    "print('Number of null in soda_trains after fillna:', np.sum(np.isnan(soda_trains)))"
   ]
  },
  {
   "cell_type": "code",
   "execution_count": 9,
   "metadata": {
    "execution": {
     "iopub.execute_input": "2021-11-07T11:33:35.649057Z",
     "iopub.status.busy": "2021-11-07T11:33:35.647940Z",
     "iopub.status.idle": "2021-11-07T11:33:36.785018Z",
     "shell.execute_reply": "2021-11-07T11:33:36.784016Z",
     "shell.execute_reply.started": "2021-11-07T11:23:30.842000Z"
    },
    "papermill": {
     "duration": 1.1683,
     "end_time": "2021-11-07T11:33:36.785204",
     "exception": false,
     "start_time": "2021-11-07T11:33:35.616904",
     "status": "completed"
    },
    "tags": []
   },
   "outputs": [
    {
     "name": "stdout",
     "output_type": "stream",
     "text": [
      "Number of null in cmip6_trains after fillna: 0\n"
     ]
    }
   ],
   "source": [
    "# 填充CMIP6数据中的空值\n",
    "cmip6_trains = np.array(cmip6_trains)\n",
    "cmip6_trains_nan = np.isnan(cmip6_trains)\n",
    "cmip6_trains[cmip6_trains_nan] = 0\n",
    "print('Number of null in cmip6_trains after fillna:', np.sum(np.isnan(cmip6_trains)))"
   ]
  },
  {
   "cell_type": "code",
   "execution_count": 10,
   "metadata": {
    "execution": {
     "iopub.execute_input": "2021-11-07T11:33:36.844494Z",
     "iopub.status.busy": "2021-11-07T11:33:36.843382Z",
     "iopub.status.idle": "2021-11-07T11:33:37.982369Z",
     "shell.execute_reply": "2021-11-07T11:33:37.983434Z",
     "shell.execute_reply.started": "2021-11-07T11:23:31.982897Z"
    },
    "papermill": {
     "duration": 1.170648,
     "end_time": "2021-11-07T11:33:37.983683",
     "exception": false,
     "start_time": "2021-11-07T11:33:36.813035",
     "status": "completed"
    },
    "tags": []
   },
   "outputs": [
    {
     "name": "stdout",
     "output_type": "stream",
     "text": [
      "Number of null in cmip6_trains after fillna: 0\n"
     ]
    }
   ],
   "source": [
    "# 填充CMIP5数据中的空值\n",
    "cmip5_trains = np.array(cmip5_trains)\n",
    "cmip5_trains_nan = np.isnan(cmip5_trains)\n",
    "cmip5_trains[cmip5_trains_nan] = 0\n",
    "print('Number of null in cmip6_trains after fillna:', np.sum(np.isnan(cmip5_trains)))"
   ]
  },
  {
   "cell_type": "markdown",
   "metadata": {},
   "source": [
    "#### 构造数据集\n",
    "构造训练和验证集。"
   ]
  },
  {
   "cell_type": "code",
   "execution_count": 11,
   "metadata": {
    "execution": {
     "iopub.execute_input": "2021-11-07T11:33:38.091882Z",
     "iopub.status.busy": "2021-11-07T11:33:38.091030Z",
     "iopub.status.idle": "2021-11-07T11:33:38.757089Z",
     "shell.execute_reply": "2021-11-07T11:33:38.756486Z",
     "shell.execute_reply.started": "2021-11-07T11:23:33.105534Z"
    },
    "papermill": {
     "duration": 0.72117,
     "end_time": "2021-11-07T11:33:38.757230",
     "exception": false,
     "start_time": "2021-11-07T11:33:38.036060",
     "status": "completed"
    },
    "tags": []
   },
   "outputs": [],
   "source": [
    "# 构造训练集\n",
    "\n",
    "X_train = []\n",
    "y_train = []\n",
    "# 从CMIP5的17种模式中各抽取100条数据\n",
    "for model_i in range(17):\n",
    "    samples = np.random.choice(cmip5_trains.shape[1]-12, size=100)\n",
    "    for ind in samples:\n",
    "        X_train.append(cmip5_trains[model_i, ind: ind+12])\n",
    "        y_train.append(cmip5_labels[model_i][ind: ind+24])\n",
    "# 从CMIP6的15种模式种各抽取100条数据\n",
    "for model_i in range(15):\n",
    "    samples = np.random.choice(cmip6_trains.shape[1]-12, size=100)\n",
    "    for ind in samples:\n",
    "        X_train.append(cmip6_trains[model_i, ind: ind+12])\n",
    "        y_train.append(cmip6_labels[model_i][ind: ind+24])\n",
    "X_train = np.array(X_train)\n",
    "y_train = np.array(y_train)"
   ]
  },
  {
   "cell_type": "code",
   "execution_count": 12,
   "metadata": {
    "execution": {
     "iopub.execute_input": "2021-11-07T11:33:38.819204Z",
     "iopub.status.busy": "2021-11-07T11:33:38.818020Z",
     "iopub.status.idle": "2021-11-07T11:33:38.840229Z",
     "shell.execute_reply": "2021-11-07T11:33:38.839737Z",
     "shell.execute_reply.started": "2021-11-07T11:23:33.801270Z"
    },
    "papermill": {
     "duration": 0.055138,
     "end_time": "2021-11-07T11:33:38.840360",
     "exception": false,
     "start_time": "2021-11-07T11:33:38.785222",
     "status": "completed"
    },
    "tags": []
   },
   "outputs": [],
   "source": [
    "# 构造验证集\n",
    "\n",
    "X_valid = []\n",
    "y_valid = []\n",
    "samples = np.random.choice(soda_trains.shape[1]-12, size=100)\n",
    "for ind in samples:\n",
    "    X_valid.append(soda_trains[0, ind: ind+12])\n",
    "    y_valid.append(soda_labels[0][ind: ind+24])\n",
    "X_valid = np.array(X_valid)\n",
    "y_valid = np.array(y_valid)"
   ]
  },
  {
   "cell_type": "code",
   "execution_count": 13,
   "metadata": {
    "execution": {
     "iopub.execute_input": "2021-11-07T11:33:38.898632Z",
     "iopub.status.busy": "2021-11-07T11:33:38.897899Z",
     "iopub.status.idle": "2021-11-07T11:33:38.900564Z",
     "shell.execute_reply": "2021-11-07T11:33:38.901077Z",
     "shell.execute_reply.started": "2021-11-07T11:23:33.839695Z"
    },
    "papermill": {
     "duration": 0.034011,
     "end_time": "2021-11-07T11:33:38.901204",
     "exception": false,
     "start_time": "2021-11-07T11:33:38.867193",
     "status": "completed"
    },
    "tags": []
   },
   "outputs": [
    {
     "data": {
      "text/plain": [
       "((3200, 12, 24, 72, 4), (3200, 24), (100, 12, 24, 72, 4), (100, 24))"
      ]
     },
     "execution_count": 13,
     "metadata": {},
     "output_type": "execute_result"
    }
   ],
   "source": [
    "# 查看数据集维度\n",
    "X_train.shape, y_train.shape, X_valid.shape, y_valid.shape"
   ]
  },
  {
   "cell_type": "code",
   "execution_count": 15,
   "metadata": {
    "execution": {
     "iopub.execute_input": "2021-11-07T11:33:39.033073Z",
     "iopub.status.busy": "2021-11-07T11:33:39.032319Z",
     "iopub.status.idle": "2021-11-07T11:33:40.963743Z",
     "shell.execute_reply": "2021-11-07T11:33:40.962736Z",
     "shell.execute_reply.started": "2021-11-07T11:23:33.879524Z"
    },
    "papermill": {
     "duration": 1.963702,
     "end_time": "2021-11-07T11:33:40.963922",
     "exception": false,
     "start_time": "2021-11-07T11:33:39.000220",
     "status": "completed"
    },
    "tags": []
   },
   "outputs": [],
   "source": [
    "# 保存数据集\n",
    "np.save('X_train_sample.npy', X_train)\n",
    "np.save('y_train_sample.npy', y_train)\n",
    "np.save('X_valid_sample.npy', X_valid)\n",
    "np.save('y_valid_sample.npy', y_valid)"
   ]
  },
  {
   "cell_type": "markdown",
   "metadata": {
    "papermill": {
     "duration": 0.442674,
     "end_time": "2021-11-07T11:33:43.003352",
     "exception": false,
     "start_time": "2021-11-07T11:33:42.560678",
     "status": "completed"
    },
    "tags": []
   },
   "source": [
    "### 模型构建"
   ]
  },
  {
   "cell_type": "markdown",
   "metadata": {},
   "source": [
    "这一部分我们来重点学习一下该方案的模型结构。"
   ]
  },
  {
   "cell_type": "code",
   "execution_count": 16,
   "metadata": {
    "execution": {
     "iopub.execute_input": "2021-11-07T11:33:43.228569Z",
     "iopub.status.busy": "2021-11-07T11:33:43.223113Z",
     "iopub.status.idle": "2021-11-07T11:33:58.100748Z",
     "shell.execute_reply": "2021-11-07T11:33:58.101185Z",
     "shell.execute_reply.started": "2021-11-07T11:23:42.357343Z"
    },
    "papermill": {
     "duration": 15.039399,
     "end_time": "2021-11-07T11:33:58.101351",
     "exception": false,
     "start_time": "2021-11-07T11:33:43.061952",
     "status": "completed"
    },
    "tags": []
   },
   "outputs": [],
   "source": [
    "# 读取数据集\n",
    "X_train = np.load('../input/ai-earth-task04-samples/X_train_sample.npy')\n",
    "y_train = np.load('../input/ai-earth-task04-samples/y_train_sample.npy')\n",
    "X_valid = np.load('../input/ai-earth-task04-samples/X_valid_sample.npy')\n",
    "y_valid = np.load('../input/ai-earth-task04-samples/y_valid_sample.npy')"
   ]
  },
  {
   "cell_type": "code",
   "execution_count": 17,
   "metadata": {
    "execution": {
     "iopub.execute_input": "2021-11-07T11:33:58.162900Z",
     "iopub.status.busy": "2021-11-07T11:33:58.161742Z",
     "iopub.status.idle": "2021-11-07T11:33:58.164817Z",
     "shell.execute_reply": "2021-11-07T11:33:58.165196Z",
     "shell.execute_reply.started": "2021-11-07T11:23:56.303716Z"
    },
    "papermill": {
     "duration": 0.036534,
     "end_time": "2021-11-07T11:33:58.165327",
     "exception": false,
     "start_time": "2021-11-07T11:33:58.128793",
     "status": "completed"
    },
    "tags": []
   },
   "outputs": [
    {
     "data": {
      "text/plain": [
       "((3200, 12, 24, 72, 4), (3200, 24), (100, 12, 24, 72, 4), (100, 24))"
      ]
     },
     "execution_count": 17,
     "metadata": {},
     "output_type": "execute_result"
    }
   ],
   "source": [
    "X_train.shape, y_train.shape, X_valid.shape, y_valid.shape"
   ]
  },
  {
   "cell_type": "code",
   "execution_count": 18,
   "metadata": {
    "execution": {
     "iopub.execute_input": "2021-11-07T11:33:58.225845Z",
     "iopub.status.busy": "2021-11-07T11:33:58.224285Z",
     "iopub.status.idle": "2021-11-07T11:33:58.226437Z",
     "shell.execute_reply": "2021-11-07T11:33:58.226877Z",
     "shell.execute_reply.started": "2021-11-07T11:23:56.313927Z"
    },
    "papermill": {
     "duration": 0.03485,
     "end_time": "2021-11-07T11:33:58.227001",
     "exception": false,
     "start_time": "2021-11-07T11:33:58.192151",
     "status": "completed"
    },
    "tags": []
   },
   "outputs": [],
   "source": [
    "# 构造数据管道\n",
    "class AIEarthDataset(Dataset):\n",
    "    def __init__(self, data, label):\n",
    "        self.data = torch.tensor(data, dtype=torch.float32)\n",
    "        self.label = torch.tensor(label, dtype=torch.float32)\n",
    "\n",
    "    def __len__(self):\n",
    "        return len(self.label)\n",
    "    \n",
    "    def __getitem__(self, idx):\n",
    "        return self.data[idx], self.label[idx]"
   ]
  },
  {
   "cell_type": "code",
   "execution_count": 19,
   "metadata": {
    "execution": {
     "iopub.execute_input": "2021-11-07T11:33:58.289091Z",
     "iopub.status.busy": "2021-11-07T11:33:58.288549Z",
     "iopub.status.idle": "2021-11-07T11:33:59.029333Z",
     "shell.execute_reply": "2021-11-07T11:33:59.028812Z",
     "shell.execute_reply.started": "2021-11-07T11:23:56.324788Z"
    },
    "papermill": {
     "duration": 0.775212,
     "end_time": "2021-11-07T11:33:59.029494",
     "exception": false,
     "start_time": "2021-11-07T11:33:58.254282",
     "status": "completed"
    },
    "tags": []
   },
   "outputs": [],
   "source": [
    "batch_size = 32\n",
    "\n",
    "trainset = AIEarthDataset(X_train, y_train)\n",
    "trainloader = DataLoader(trainset, batch_size=batch_size, shuffle=True)\n",
    "\n",
    "validset = AIEarthDataset(X_valid, y_valid)\n",
    "validloader = DataLoader(validset, batch_size=batch_size, shuffle=True)"
   ]
  },
  {
   "cell_type": "markdown",
   "metadata": {},
   "source": [
    "#### 构造评估函数"
   ]
  },
  {
   "cell_type": "code",
   "execution_count": 24,
   "metadata": {
    "execution": {
     "iopub.execute_input": "2021-11-07T11:33:59.402757Z",
     "iopub.status.busy": "2021-11-07T11:33:59.401182Z",
     "iopub.status.idle": "2021-11-07T11:33:59.404701Z",
     "shell.execute_reply": "2021-11-07T11:33:59.405088Z",
     "shell.execute_reply.started": "2021-11-07T11:23:57.219014Z"
    },
    "papermill": {
     "duration": 0.037919,
     "end_time": "2021-11-07T11:33:59.405211",
     "exception": false,
     "start_time": "2021-11-07T11:33:59.367292",
     "status": "completed"
    },
    "tags": []
   },
   "outputs": [],
   "source": [
    "def rmse(y_true, y_preds):\n",
    "    return np.sqrt(mean_squared_error(y_pred = y_preds, y_true = y_true))\n",
    "\n",
    "# 评估函数\n",
    "def score(y_true, y_preds):\n",
    "    # 相关性技巧评分\n",
    "    accskill_score = 0\n",
    "    # RMSE\n",
    "    rmse_scores = 0\n",
    "    a = [1.5] * 4 + [2] * 7 + [3] * 7 + [4] * 6\n",
    "    y_true_mean = np.mean(y_true, axis=0)\n",
    "    y_pred_mean = np.mean(y_preds, axis=0)\n",
    "    for i in range(24):\n",
    "        fenzi = np.sum((y_true[:, i] - y_true_mean[i]) * (y_preds[:, i] - y_pred_mean[i]))\n",
    "        fenmu = np.sqrt(np.sum((y_true[:, i] - y_true_mean[i])**2) * np.sum((y_preds[:, i] - y_pred_mean[i])**2))\n",
    "        cor_i = fenzi / fenmu\n",
    "        accskill_score += a[i] * np.log(i+1) * cor_i\n",
    "        rmse_score = rmse(y_true[:, i], y_preds[:, i])\n",
    "        rmse_scores += rmse_score\n",
    "    return 2/3.0 * accskill_score - rmse_scores"
   ]
  },
  {
   "cell_type": "markdown",
   "metadata": {},
   "source": [
    "#### 模型构造\n",
    "\n",
    "该TOP方案采用TCN单元+CNN单元串行组成TCNN层，通过堆叠多层的TCNN层来交替地提取时间和空间信息，并将提取到的时空信息用RNN来抽取出三种不同时间尺度的特征表达。"
   ]
  },
  {
   "cell_type": "markdown",
   "metadata": {},
   "source": [
    "- **TCN单元**\n",
    "\n",
    "TCN模型全称时间卷积网络（Temporal Convolutional Network），与RNN一样是时序模型。TCN以CNN为基础，为了适应序列问题，它从以下三方面做出了改进：\n",
    "\n",
    "1. 因果卷积\n",
    "\n",
    "TCN处理输入与输出等长的序列问题，它的每一个隐藏层节点数与输入步长是相同的，并且隐藏层t时刻节点的值只依赖于前一层t时刻及之前节点的值。也就是说TCN通过追溯前因（t时刻及之前的值）来获得当前结果，称为因果卷积。\n",
    "\n",
    "2. 扩张卷积\n",
    "\n",
    "传统CNN的感受野受限于卷积核的大小，需要通过增加池化层来获得更大的感受野，但是池化的操作会带来信息的损失。为了解决这个问题，TCN采用扩张卷积来增大感受野，获取更长时间的信息。扩张卷积对输入进行间隔采样，采样间隔由扩张因子d控制，公式定义如下：\n",
    "$$\n",
    "F(s) = (X * df)(s) = \\sum_{i=0}^{k-1} f(i) \\times X_{s-di}\n",
    "$$\n",
    "其中X为当前层的输入，k为当前层的卷积核大小，s为当前节点的时刻。也就是说，对于扩张因子为d、卷积核为k的隐藏层，对前一层的输入每d个点采样一次，共采样k个点作为当前时刻s的输入。这样TCN的感受野就由卷积核的大小k和扩张因子d共同决定，可以获取更长时间的依赖信息。\n",
    "\n",
    "<img src=\"./fig/Task4-扩张卷积.png\" width=\"45%\">\n",
    "\n",
    "3. 残差连接\n",
    "\n",
    "网络的层数越多，所能提取到的特征就越丰富，但这也会带来梯度消失或爆炸的问题，目前解决这个问题的一个有效方法就是残差连接。TCN的残差模块包含两层卷积操作，并且采用了WeightNorm和Dropout进行正则化，如下图所示。\n",
    "\n",
    "<img src=\"./fig/Task4-残差连接.png\" width=\"60%\">\n",
    "\n",
    "总的来说，TCN是卷积操作在序列问题上的改进，具有CNN参数量少的优点，可以搭建更深层的网络，相比于RNN不容易存在梯度消失和爆炸的问题，同时TCN具有灵活的感受野，能够适应不同的任务，在许多数据集上的比较表明TCN比RNN、LSTM、GRU等序列模型有更好的表现。\n",
    "\n",
    "想要更深入地了解TCN可以参考以下链接：\n",
    "    \n",
    "   - 论文原文：https://arxiv.org/pdf/1803.01271.pdf\n",
    "   - GitHub：https://github.com/locuslab/tcn\n",
    "   \n",
    "该方案中所构建的TCN单元并不是标准的TCN层，它的结构如下图所示，可以看到，这里的TCN单元只是用了一个卷积层，并且在卷积层前后都采用了BatchNormalization来提高模型的泛化能力。需要注意的是，这里的卷积操作是对时间维度进行操作，因此需要对输入的形状进行转换，并且为了便于匹配之后的网络层，需要将输出的形状转换回输入时的（N,T,C,H,W）的形式。\n",
    "\n",
    "<img src=\"./fig/Task4-TCN单元.png\" width=\"26%\">"
   ]
  },
  {
   "cell_type": "code",
   "execution_count": 20,
   "metadata": {
    "execution": {
     "iopub.execute_input": "2021-11-07T11:33:59.094709Z",
     "iopub.status.busy": "2021-11-07T11:33:59.094119Z",
     "iopub.status.idle": "2021-11-07T11:33:59.097687Z",
     "shell.execute_reply": "2021-11-07T11:33:59.097168Z",
     "shell.execute_reply.started": "2021-11-07T11:23:57.153300Z"
    },
    "papermill": {
     "duration": 0.039993,
     "end_time": "2021-11-07T11:33:59.097803",
     "exception": false,
     "start_time": "2021-11-07T11:33:59.057810",
     "status": "completed"
    },
    "tags": []
   },
   "outputs": [],
   "source": [
    "# 构建TCN单元\n",
    "class TCNBlock(nn.Module):\n",
    "    def __init__(self, in_channels, out_channels, kernel_size, stride, padding):\n",
    "        super().__init__()\n",
    "        self.bn1 = nn.BatchNorm1d(in_channels)\n",
    "        self.conv = nn.Conv1d(in_channels, out_channels, kernel_size, stride, padding)\n",
    "        self.bn2 = nn.BatchNorm1d(out_channels)\n",
    "        \n",
    "        if in_channels == out_channels and stride == 1:\n",
    "            self.res = lambda x: x\n",
    "        else:\n",
    "            self.res = nn.Conv1d(in_channels, out_channels, kernel_size=1, stride=stride)\n",
    "        \n",
    "    def forward(self, x):\n",
    "        # 转换输入形状\n",
    "        N, T, C, H, W = x.shape\n",
    "        x = x.permute(0, 3, 4, 2, 1).contiguous()\n",
    "        x = x.view(N*H*W, C, T)\n",
    "        \n",
    "        # 残差\n",
    "        res = self.res(x) \n",
    "        res = self.bn2(res)\n",
    "\n",
    "        x = F.relu(self.bn1(x))\n",
    "        x = self.conv(x)\n",
    "        x = self.bn2(x)\n",
    "        \n",
    "        x = x + res\n",
    "        \n",
    "        # 将输出转换回(N,T,C,H,W)的形式\n",
    "        _, C_new, T_new = x.shape\n",
    "        x = x.view(N, H, W, C_new, T_new)\n",
    "        x = x.permute(0, 4, 3, 1, 2).contiguous()\n",
    "        \n",
    "        return x"
   ]
  },
  {
   "cell_type": "markdown",
   "metadata": {},
   "source": [
    "- **CNN单元**\n",
    "\n",
    "CNN单元结构与TCN单元相似，都只有一个卷积层，并且使用BatchNormalization来提高模型泛化能力。同时，类似TCN单元，CNN单元中也加入了残差连接。结构如下图所示：\n",
    "\n",
    "<img src=\"./fig/Task4-CNN单元.png\" width=\"26%\">"
   ]
  },
  {
   "cell_type": "code",
   "execution_count": 21,
   "metadata": {
    "execution": {
     "iopub.execute_input": "2021-11-07T11:33:59.160481Z",
     "iopub.status.busy": "2021-11-07T11:33:59.158973Z",
     "iopub.status.idle": "2021-11-07T11:33:59.163197Z",
     "shell.execute_reply": "2021-11-07T11:33:59.163610Z",
     "shell.execute_reply.started": "2021-11-07T11:23:57.170593Z"
    },
    "papermill": {
     "duration": 0.038796,
     "end_time": "2021-11-07T11:33:59.163736",
     "exception": false,
     "start_time": "2021-11-07T11:33:59.124940",
     "status": "completed"
    },
    "tags": []
   },
   "outputs": [],
   "source": [
    "# 构建CNN单元\n",
    "class CNNBlock(nn.Module):\n",
    "    def __init__(self, in_channels, out_channels, kernel_size, stride, padding):\n",
    "        super().__init__()\n",
    "        self.bn1 = nn.BatchNorm2d(in_channels)\n",
    "        self.conv = nn.Conv2d(in_channels, out_channels, kernel_size, stride, padding)\n",
    "        self.bn2 = nn.BatchNorm2d(out_channels)\n",
    "        \n",
    "        if (in_channels == out_channels) and (stride == 1):\n",
    "            self.res = lambda x: x\n",
    "        else:\n",
    "            self.res = nn.Conv2d(in_channels, out_channels, kernel_size=1, stride=stride)\n",
    "        \n",
    "    def forward(self, x):\n",
    "        # 转换输入形状\n",
    "        N, T, C, H, W = x.shape\n",
    "        x = x.view(N*T, C, H, W)\n",
    "        \n",
    "        # 残差\n",
    "        res = self.res(x)\n",
    "        res = self.bn2(res)\n",
    "\n",
    "        x = F.relu(self.bn1(x))\n",
    "        x = self.conv(x)\n",
    "        x = self.bn2(x)\n",
    "        \n",
    "        x = x + res\n",
    "        \n",
    "        # 将输出转换回(N,T,C,H,W)的形式\n",
    "        _, C_new, H_new, W_new = x.shape\n",
    "        x = x.view(N, T, C_new, H_new, W_new)\n",
    "        \n",
    "        return x"
   ]
  },
  {
   "cell_type": "markdown",
   "metadata": {},
   "source": [
    "- **TCNN层**\n",
    "\n",
    "将TCN单元和CNN单元串行连接，就构成了一个TCNN层。\n",
    "\n",
    "<img src=\"./fig/Task4-TCNN层.png\" width=\"15%\">"
   ]
  },
  {
   "cell_type": "code",
   "execution_count": 22,
   "metadata": {
    "execution": {
     "iopub.execute_input": "2021-11-07T11:33:59.223231Z",
     "iopub.status.busy": "2021-11-07T11:33:59.222402Z",
     "iopub.status.idle": "2021-11-07T11:33:59.224980Z",
     "shell.execute_reply": "2021-11-07T11:33:59.224529Z",
     "shell.execute_reply.started": "2021-11-07T11:23:57.182192Z"
    },
    "papermill": {
     "duration": 0.034509,
     "end_time": "2021-11-07T11:33:59.225082",
     "exception": false,
     "start_time": "2021-11-07T11:33:59.190573",
     "status": "completed"
    },
    "tags": []
   },
   "outputs": [],
   "source": [
    "class TCNNBlock(nn.Module):\n",
    "    def __init__(self, in_channels, out_channels, kernel_size, stride_tcn, stride_cnn, padding):\n",
    "        super().__init__()\n",
    "        self.tcn = TCNBlock(in_channels, out_channels, kernel_size, stride_tcn, padding)\n",
    "        self.cnn = CNNBlock(out_channels, out_channels, kernel_size, stride_cnn, padding)\n",
    "        \n",
    "    def forward(self, x):\n",
    "        x = self.tcn(x)\n",
    "        x = self.cnn(x)\n",
    "        return x"
   ]
  },
  {
   "cell_type": "markdown",
   "metadata": {},
   "source": [
    "- **TCNN+RNN模型**\n",
    "\n",
    "整体的模型结构如下图所示：\n",
    "\n",
    "<img src=\"./fig/Task4-TCNN+RNN模型.png\" width=\"40%\">\n",
    "\n",
    "1. TCNN部分\n",
    "\n",
    "TCNN部分的模型结构类似传统CNN的结构，非常规整，通过逐渐增加通道数来提取更丰富的特征表达。需要注意的是输入数据的格式是(N,T,H,W,C)，为了匹配卷积层的输入格式，需要将数据格式转换为(N,T,C,H,W)。\n",
    "\n",
    "2. GAP层\n",
    "\n",
    "GAP全称为全局平均池化（Global Average Pooling）层，它的作用是把每个通道上的特征图取全局平均，假设经过TCNN部分得到的输出格式为(N,T,C,H,W)，那么GAP层就会把每个通道上形状为H×W的特征图上的所有值求平均，最终得到的输出格式就变成(N,T,C)。GAP层最早出现在论文《Network in Network》（论文原文：https://arxiv.org/pdf/1312.4400.pdf ）中用于代替传统CNN中的全连接层，之后的许多实验证明GAP层确实可以提高CNN的效果。\n",
    "\n",
    "那么GAP层为什么可以代替全连接层呢？在传统CNN中，经过多层卷积和池化的操作后，会由Flatten层将特征图拉伸成一列，然后经过全连接层，那么对于形状为(C,H,W)的一条数据，经Flatten层拉伸后的长度为C×H×W，此时假设全连接层节点数为U，全连接层的参数量就是C×H×W×U，这么大的参数量很容易使得模型过拟合。相比之下，GAP层不引入新的参数，因此可以有效减少过拟合问题，并且模型参数少也能加快训练速度。另一方面，全连接层是一个黑箱子，我们很难解释多分类的信息是怎样传回卷积层的，而GAP层就很容易理解，每个通道的值就代表了经过多层卷积操作后所提取出来的特征。更详细的理解可以参考https://www.zhihu.com/question/373188099\n",
    "\n",
    "在Pytorch中没有内置的GAP层，因此可以用adaptive_avg_pool2d来替代，这个函数可以将特征图压缩成给定的输出形状，将output_size参数设置为(1,1)，就等同于GAP操作，函数的详细使用方法可以参考https://pytorch.org/docs/stable/generated/torch.nn.functional.adaptive_avg_pool2d.html?highlight=adaptive_avg_pool2d#torch.nn.functional.adaptive_avg_pool2d\n",
    "\n",
    "3. RNN部分\n",
    "\n",
    "至此为止我们所使用的都是长度为12的时间序列，每个时间步代表一个月的信息。不同尺度的时间序列所携带的信息是不尽相同的，比如用长度为6的时间序列来表达一年的SST值，那么每个时间步所代表的就是两个月的SST信息，这种时间尺度下的SST序列与长度为12的SST序列所反映的一年中SST变化趋势等信息就不完全相同。所以，为了尽可能全面地挖掘更多信息，该TOP方案中用MaxPool层来获得三种不同时间尺度的序列，同时，用RNN层来抽取序列的特征表达。RNN非常适合用于线性序列的自动特征提取，例如对于形状为(T,C1)的一条输入数据，R经过节点数为C2的RNN层就能抽取出长度为C2的向量，由于RNN由前往后进行信息线性传递的网络结构，抽取出的向量能够很好地表达序列中的依赖关系。\n",
    "\n",
    "此时三种不同时间尺度的序列都抽取出了一个向量来表示，将向量拼接起来再经过一个全连接层就得到了24个月的预测序列。"
   ]
  },
  {
   "cell_type": "code",
   "execution_count": 23,
   "metadata": {
    "execution": {
     "iopub.execute_input": "2021-11-07T11:33:59.339242Z",
     "iopub.status.busy": "2021-11-07T11:33:59.337656Z",
     "iopub.status.idle": "2021-11-07T11:33:59.339842Z",
     "shell.execute_reply": "2021-11-07T11:33:59.340257Z",
     "shell.execute_reply.started": "2021-11-07T11:23:57.199137Z"
    },
    "papermill": {
     "duration": 0.088367,
     "end_time": "2021-11-07T11:33:59.340377",
     "exception": false,
     "start_time": "2021-11-07T11:33:59.252010",
     "status": "completed"
    },
    "tags": []
   },
   "outputs": [],
   "source": [
    "# 构造模型\n",
    "class Model(nn.Module):\n",
    "    def __init__(self):\n",
    "        super().__init__()\n",
    "        self.conv = nn.Conv2d(4, 64, kernel_size=7, stride=2, padding=3)\n",
    "        self.tcnn1 = TCNNBlock(64, 64, 3, 1, 1, 1)\n",
    "        self.tcnn2 = TCNNBlock(64, 128, 3, 1, 2, 1)\n",
    "        self.tcnn3 = TCNNBlock(128, 128, 3, 1, 1, 1)\n",
    "        self.tcnn4 = TCNNBlock(128, 256, 3, 1, 2, 1)\n",
    "        self.tcnn5 = TCNNBlock(256, 256, 3, 1, 1, 1)\n",
    "        self.rnn = nn.RNN(256, 256, batch_first=True)\n",
    "        self.maxpool = nn.MaxPool1d(2)\n",
    "        self.fc = nn.Linear(256*3, 24)\n",
    "        \n",
    "    def forward(self, x):\n",
    "        # 转换输入形状\n",
    "        N, T, H, W, C = x.shape\n",
    "        x = x.permute(0, 1, 4, 2, 3).contiguous()\n",
    "        x = x.view(N*T, C, H, W)\n",
    "        \n",
    "        # 经过一个卷积层\n",
    "        x = self.conv(x)\n",
    "        _, C_new, H_new, W_new = x.shape\n",
    "        x = x.view(N, T, C_new, H_new, W_new)\n",
    "        \n",
    "        # TCNN部分\n",
    "        for i in range(3):\n",
    "            x = self.tcnn1(x)\n",
    "        x = self.tcnn2(x)\n",
    "        for i in range(2):\n",
    "            x = self.tcnn3(x)\n",
    "        x = self.tcnn4(x)\n",
    "        for i in range(2):\n",
    "            x = self.tcnn5(x)\n",
    "            \n",
    "        # 全局平均池化\n",
    "        x = F.adaptive_avg_pool2d(x, (1, 1)).squeeze()\n",
    "        \n",
    "        # RNN部分，分别得到长度为T、T/2、T/4三种时间尺度的特征表达，注意转换RNN层输出的格式\n",
    "        hidden_state = []\n",
    "        for i in range(3):\n",
    "            x, h = self.rnn(x)\n",
    "            h = h.squeeze()\n",
    "            hidden_state.append(h)\n",
    "            x = self.maxpool(x.transpose(1, 2)).transpose(1, 2)\n",
    "        \n",
    "        x = torch.cat(hidden_state, dim=1)\n",
    "        x = self.fc(x)\n",
    "        \n",
    "        return x"
   ]
  },
  {
   "cell_type": "code",
   "execution_count": 25,
   "metadata": {
    "execution": {
     "iopub.execute_input": "2021-11-07T11:33:59.467079Z",
     "iopub.status.busy": "2021-11-07T11:33:59.466474Z",
     "iopub.status.idle": "2021-11-07T11:33:59.507567Z",
     "shell.execute_reply": "2021-11-07T11:33:59.507973Z",
     "shell.execute_reply.started": "2021-11-07T11:23:57.232949Z"
    },
    "papermill": {
     "duration": 0.076245,
     "end_time": "2021-11-07T11:33:59.508101",
     "exception": false,
     "start_time": "2021-11-07T11:33:59.431856",
     "status": "completed"
    },
    "tags": []
   },
   "outputs": [
    {
     "name": "stdout",
     "output_type": "stream",
     "text": [
      "Model(\n",
      "  (conv): Conv2d(4, 64, kernel_size=(7, 7), stride=(2, 2), padding=(3, 3))\n",
      "  (tcnn1): TCNNBlock(\n",
      "    (tcn): TCNBlock(\n",
      "      (bn1): BatchNorm1d(64, eps=1e-05, momentum=0.1, affine=True, track_running_stats=True)\n",
      "      (conv): Conv1d(64, 64, kernel_size=(3,), stride=(1,), padding=(1,))\n",
      "      (bn2): BatchNorm1d(64, eps=1e-05, momentum=0.1, affine=True, track_running_stats=True)\n",
      "    )\n",
      "    (cnn): CNNBlock(\n",
      "      (bn1): BatchNorm2d(64, eps=1e-05, momentum=0.1, affine=True, track_running_stats=True)\n",
      "      (conv): Conv2d(64, 64, kernel_size=(3, 3), stride=(1, 1), padding=(1, 1))\n",
      "      (bn2): BatchNorm2d(64, eps=1e-05, momentum=0.1, affine=True, track_running_stats=True)\n",
      "    )\n",
      "  )\n",
      "  (tcnn2): TCNNBlock(\n",
      "    (tcn): TCNBlock(\n",
      "      (bn1): BatchNorm1d(64, eps=1e-05, momentum=0.1, affine=True, track_running_stats=True)\n",
      "      (conv): Conv1d(64, 128, kernel_size=(3,), stride=(1,), padding=(1,))\n",
      "      (bn2): BatchNorm1d(128, eps=1e-05, momentum=0.1, affine=True, track_running_stats=True)\n",
      "      (res): Conv1d(64, 128, kernel_size=(1,), stride=(1,))\n",
      "    )\n",
      "    (cnn): CNNBlock(\n",
      "      (bn1): BatchNorm2d(128, eps=1e-05, momentum=0.1, affine=True, track_running_stats=True)\n",
      "      (conv): Conv2d(128, 128, kernel_size=(3, 3), stride=(2, 2), padding=(1, 1))\n",
      "      (bn2): BatchNorm2d(128, eps=1e-05, momentum=0.1, affine=True, track_running_stats=True)\n",
      "      (res): Conv2d(128, 128, kernel_size=(1, 1), stride=(2, 2))\n",
      "    )\n",
      "  )\n",
      "  (tcnn3): TCNNBlock(\n",
      "    (tcn): TCNBlock(\n",
      "      (bn1): BatchNorm1d(128, eps=1e-05, momentum=0.1, affine=True, track_running_stats=True)\n",
      "      (conv): Conv1d(128, 128, kernel_size=(3,), stride=(1,), padding=(1,))\n",
      "      (bn2): BatchNorm1d(128, eps=1e-05, momentum=0.1, affine=True, track_running_stats=True)\n",
      "    )\n",
      "    (cnn): CNNBlock(\n",
      "      (bn1): BatchNorm2d(128, eps=1e-05, momentum=0.1, affine=True, track_running_stats=True)\n",
      "      (conv): Conv2d(128, 128, kernel_size=(3, 3), stride=(1, 1), padding=(1, 1))\n",
      "      (bn2): BatchNorm2d(128, eps=1e-05, momentum=0.1, affine=True, track_running_stats=True)\n",
      "    )\n",
      "  )\n",
      "  (tcnn4): TCNNBlock(\n",
      "    (tcn): TCNBlock(\n",
      "      (bn1): BatchNorm1d(128, eps=1e-05, momentum=0.1, affine=True, track_running_stats=True)\n",
      "      (conv): Conv1d(128, 256, kernel_size=(3,), stride=(1,), padding=(1,))\n",
      "      (bn2): BatchNorm1d(256, eps=1e-05, momentum=0.1, affine=True, track_running_stats=True)\n",
      "      (res): Conv1d(128, 256, kernel_size=(1,), stride=(1,))\n",
      "    )\n",
      "    (cnn): CNNBlock(\n",
      "      (bn1): BatchNorm2d(256, eps=1e-05, momentum=0.1, affine=True, track_running_stats=True)\n",
      "      (conv): Conv2d(256, 256, kernel_size=(3, 3), stride=(2, 2), padding=(1, 1))\n",
      "      (bn2): BatchNorm2d(256, eps=1e-05, momentum=0.1, affine=True, track_running_stats=True)\n",
      "      (res): Conv2d(256, 256, kernel_size=(1, 1), stride=(2, 2))\n",
      "    )\n",
      "  )\n",
      "  (tcnn5): TCNNBlock(\n",
      "    (tcn): TCNBlock(\n",
      "      (bn1): BatchNorm1d(256, eps=1e-05, momentum=0.1, affine=True, track_running_stats=True)\n",
      "      (conv): Conv1d(256, 256, kernel_size=(3,), stride=(1,), padding=(1,))\n",
      "      (bn2): BatchNorm1d(256, eps=1e-05, momentum=0.1, affine=True, track_running_stats=True)\n",
      "    )\n",
      "    (cnn): CNNBlock(\n",
      "      (bn1): BatchNorm2d(256, eps=1e-05, momentum=0.1, affine=True, track_running_stats=True)\n",
      "      (conv): Conv2d(256, 256, kernel_size=(3, 3), stride=(1, 1), padding=(1, 1))\n",
      "      (bn2): BatchNorm2d(256, eps=1e-05, momentum=0.1, affine=True, track_running_stats=True)\n",
      "    )\n",
      "  )\n",
      "  (rnn): RNN(256, 256, batch_first=True)\n",
      "  (maxpool): MaxPool1d(kernel_size=2, stride=2, padding=0, dilation=1, ceil_mode=False)\n",
      "  (fc): Linear(in_features=768, out_features=24, bias=True)\n",
      ")\n"
     ]
    }
   ],
   "source": [
    "model = Model()\n",
    "print(model)"
   ]
  },
  {
   "cell_type": "markdown",
   "metadata": {},
   "source": [
    "#### 模型训练"
   ]
  },
  {
   "cell_type": "code",
   "execution_count": 26,
   "metadata": {
    "execution": {
     "iopub.execute_input": "2021-11-07T11:33:59.569324Z",
     "iopub.status.busy": "2021-11-07T11:33:59.568443Z",
     "iopub.status.idle": "2021-11-07T11:33:59.570995Z",
     "shell.execute_reply": "2021-11-07T11:33:59.570559Z",
     "shell.execute_reply.started": "2021-11-07T11:23:59.196182Z"
    },
    "papermill": {
     "duration": 0.035076,
     "end_time": "2021-11-07T11:33:59.571104",
     "exception": false,
     "start_time": "2021-11-07T11:33:59.536028",
     "status": "completed"
    },
    "tags": []
   },
   "outputs": [],
   "source": [
    "# 采用RMSE作为损失函数\n",
    "def RMSELoss(y_pred,y_true):\n",
    "    loss = torch.sqrt(torch.mean((y_pred-y_true)**2, dim=0)).sum()\n",
    "    return loss"
   ]
  },
  {
   "cell_type": "code",
   "execution_count": 27,
   "metadata": {
    "execution": {
     "iopub.execute_input": "2021-11-07T11:33:59.635947Z",
     "iopub.status.busy": "2021-11-07T11:33:59.635133Z",
     "iopub.status.idle": "2021-11-07T11:41:54.987872Z",
     "shell.execute_reply": "2021-11-07T11:41:54.987159Z",
     "shell.execute_reply.started": "2021-11-07T11:24:00.777235Z"
    },
    "papermill": {
     "duration": 475.387685,
     "end_time": "2021-11-07T11:41:54.988052",
     "exception": false,
     "start_time": "2021-11-07T11:33:59.600367",
     "status": "completed"
    },
    "tags": []
   },
   "outputs": [
    {
     "name": "stdout",
     "output_type": "stream",
     "text": [
      "Epoch: 1/10\n"
     ]
    },
    {
     "name": "stderr",
     "output_type": "stream",
     "text": [
      "100%|██████████| 100/100 [00:51<00:00,  1.95it/s]\n"
     ]
    },
    {
     "name": "stdout",
     "output_type": "stream",
     "text": [
      "Training Loss: 18.099\n"
     ]
    },
    {
     "name": "stderr",
     "output_type": "stream",
     "text": [
      "4it [00:00,  6.19it/s]\n"
     ]
    },
    {
     "name": "stdout",
     "output_type": "stream",
     "text": [
      "Validation Loss: 16.756\n",
      "Score: -4.320\n",
      "Epoch: 2/10\n"
     ]
    },
    {
     "name": "stderr",
     "output_type": "stream",
     "text": [
      "100%|██████████| 100/100 [00:45<00:00,  2.17it/s]\n"
     ]
    },
    {
     "name": "stdout",
     "output_type": "stream",
     "text": [
      "Training Loss: 16.955\n"
     ]
    },
    {
     "name": "stderr",
     "output_type": "stream",
     "text": [
      "4it [00:00,  6.41it/s]\n"
     ]
    },
    {
     "name": "stdout",
     "output_type": "stream",
     "text": [
      "Validation Loss: 17.657\n",
      "Score: -32.332\n",
      "Epoch: 3/10\n"
     ]
    },
    {
     "name": "stderr",
     "output_type": "stream",
     "text": [
      "100%|██████████| 100/100 [00:45<00:00,  2.18it/s]\n"
     ]
    },
    {
     "name": "stdout",
     "output_type": "stream",
     "text": [
      "Training Loss: 16.639\n"
     ]
    },
    {
     "name": "stderr",
     "output_type": "stream",
     "text": [
      "4it [00:00,  6.29it/s]\n"
     ]
    },
    {
     "name": "stdout",
     "output_type": "stream",
     "text": [
      "Validation Loss: 19.156\n",
      "Score: -25.483\n",
      "Epoch: 4/10\n"
     ]
    },
    {
     "name": "stderr",
     "output_type": "stream",
     "text": [
      "100%|██████████| 100/100 [00:45<00:00,  2.17it/s]\n"
     ]
    },
    {
     "name": "stdout",
     "output_type": "stream",
     "text": [
      "Training Loss: 16.173\n"
     ]
    },
    {
     "name": "stderr",
     "output_type": "stream",
     "text": [
      "4it [00:00,  6.29it/s]\n"
     ]
    },
    {
     "name": "stdout",
     "output_type": "stream",
     "text": [
      "Validation Loss: 18.130\n",
      "Score: -15.470\n",
      "Epoch: 5/10\n"
     ]
    },
    {
     "name": "stderr",
     "output_type": "stream",
     "text": [
      "100%|██████████| 100/100 [00:45<00:00,  2.17it/s]\n"
     ]
    },
    {
     "name": "stdout",
     "output_type": "stream",
     "text": [
      "Training Loss: 15.818\n"
     ]
    },
    {
     "name": "stderr",
     "output_type": "stream",
     "text": [
      "4it [00:00,  6.28it/s]\n"
     ]
    },
    {
     "name": "stdout",
     "output_type": "stream",
     "text": [
      "Validation Loss: 17.367\n",
      "Score: -14.745\n",
      "Epoch: 6/10\n"
     ]
    },
    {
     "name": "stderr",
     "output_type": "stream",
     "text": [
      "100%|██████████| 100/100 [00:46<00:00,  2.17it/s]\n"
     ]
    },
    {
     "name": "stdout",
     "output_type": "stream",
     "text": [
      "Training Loss: 15.464\n"
     ]
    },
    {
     "name": "stderr",
     "output_type": "stream",
     "text": [
      "4it [00:00,  6.28it/s]\n"
     ]
    },
    {
     "name": "stdout",
     "output_type": "stream",
     "text": [
      "Validation Loss: 18.289\n",
      "Score: -4.441\n",
      "Epoch: 7/10\n"
     ]
    },
    {
     "name": "stderr",
     "output_type": "stream",
     "text": [
      "100%|██████████| 100/100 [00:46<00:00,  2.17it/s]\n"
     ]
    },
    {
     "name": "stdout",
     "output_type": "stream",
     "text": [
      "Training Loss: 15.175\n"
     ]
    },
    {
     "name": "stderr",
     "output_type": "stream",
     "text": [
      "4it [00:00,  6.26it/s]\n"
     ]
    },
    {
     "name": "stdout",
     "output_type": "stream",
     "text": [
      "Validation Loss: 18.604\n",
      "Score: -21.144\n",
      "Epoch: 8/10\n"
     ]
    },
    {
     "name": "stderr",
     "output_type": "stream",
     "text": [
      "100%|██████████| 100/100 [00:46<00:00,  2.17it/s]\n"
     ]
    },
    {
     "name": "stdout",
     "output_type": "stream",
     "text": [
      "Training Loss: 15.004\n"
     ]
    },
    {
     "name": "stderr",
     "output_type": "stream",
     "text": [
      "4it [00:00,  6.27it/s]\n"
     ]
    },
    {
     "name": "stdout",
     "output_type": "stream",
     "text": [
      "Validation Loss: 18.593\n",
      "Score: -27.508\n",
      "Epoch: 9/10\n"
     ]
    },
    {
     "name": "stderr",
     "output_type": "stream",
     "text": [
      "100%|██████████| 100/100 [00:46<00:00,  2.17it/s]\n"
     ]
    },
    {
     "name": "stdout",
     "output_type": "stream",
     "text": [
      "Training Loss: 14.578\n"
     ]
    },
    {
     "name": "stderr",
     "output_type": "stream",
     "text": [
      "4it [00:00,  6.28it/s]\n"
     ]
    },
    {
     "name": "stdout",
     "output_type": "stream",
     "text": [
      "Validation Loss: 18.264\n",
      "Score: -19.113\n",
      "Epoch: 10/10\n"
     ]
    },
    {
     "name": "stderr",
     "output_type": "stream",
     "text": [
      "100%|██████████| 100/100 [00:46<00:00,  2.17it/s]\n"
     ]
    },
    {
     "name": "stdout",
     "output_type": "stream",
     "text": [
      "Training Loss: 14.330\n"
     ]
    },
    {
     "name": "stderr",
     "output_type": "stream",
     "text": [
      "4it [00:00,  6.27it/s]\n"
     ]
    },
    {
     "name": "stdout",
     "output_type": "stream",
     "text": [
      "Validation Loss: 17.739\n",
      "Score: -18.628\n"
     ]
    }
   ],
   "source": [
    "model_weights = './task04_model_weights.pth'\n",
    "device = 'cuda' if torch.cuda.is_available() else 'cpu'\n",
    "model = Model().to(device)\n",
    "criterion = RMSELoss\n",
    "optimizer = optim.Adam(model.parameters(), lr=1e-3)\n",
    "epochs = 10\n",
    "train_losses, valid_losses = [], []\n",
    "scores = []\n",
    "best_score = float('-inf')\n",
    "preds = np.zeros((len(y_valid),24))\n",
    "\n",
    "for epoch in range(epochs):\n",
    "    print('Epoch: {}/{}'.format(epoch+1, epochs))\n",
    "    \n",
    "    # 模型训练\n",
    "    model.train()\n",
    "    losses = 0\n",
    "    for data, labels in tqdm(trainloader):\n",
    "        data = data.to(device)\n",
    "        labels = labels.to(device)\n",
    "        optimizer.zero_grad()\n",
    "        pred = model(data)\n",
    "        loss = criterion(pred, labels)\n",
    "        losses += loss.cpu().detach().numpy()\n",
    "        loss.backward()\n",
    "        optimizer.step()\n",
    "    train_loss = losses / len(trainloader)\n",
    "    train_losses.append(train_loss)\n",
    "    print('Training Loss: {:.3f}'.format(train_loss))\n",
    "    \n",
    "    # 模型验证\n",
    "    model.eval()\n",
    "    losses = 0\n",
    "    with torch.no_grad():\n",
    "        for i, data in tqdm(enumerate(validloader)):\n",
    "            data, labels = data\n",
    "            data = data.to(device)\n",
    "            labels = labels.to(device)\n",
    "            pred = model(data)\n",
    "            loss = criterion(pred, labels)\n",
    "            losses += loss.cpu().detach().numpy()\n",
    "            preds[i*batch_size:(i+1)*batch_size] = pred.detach().cpu().numpy()\n",
    "    valid_loss = losses / len(validloader)\n",
    "    valid_losses.append(valid_loss)\n",
    "    print('Validation Loss: {:.3f}'.format(valid_loss))\n",
    "    s = score(y_valid, preds)\n",
    "    scores.append(s)\n",
    "    print('Score: {:.3f}'.format(s))\n",
    "    \n",
    "    # 保存最佳模型权重\n",
    "    if s > best_score:\n",
    "        best_score = s\n",
    "        checkpoint = {'best_score': s,\n",
    "                      'state_dict': model.state_dict()}\n",
    "        torch.save(checkpoint, model_weights)"
   ]
  },
  {
   "cell_type": "code",
   "execution_count": 28,
   "metadata": {
    "execution": {
     "iopub.execute_input": "2021-11-07T11:41:55.621271Z",
     "iopub.status.busy": "2021-11-07T11:41:55.620191Z",
     "iopub.status.idle": "2021-11-07T11:41:55.623008Z",
     "shell.execute_reply": "2021-11-07T11:41:55.623387Z",
     "shell.execute_reply.started": "2021-11-07T11:31:56.277287Z"
    },
    "papermill": {
     "duration": 0.31815,
     "end_time": "2021-11-07T11:41:55.623547",
     "exception": false,
     "start_time": "2021-11-07T11:41:55.305397",
     "status": "completed"
    },
    "tags": []
   },
   "outputs": [],
   "source": [
    "# 绘制训练/验证曲线\n",
    "def training_vis(train_losses, valid_losses):\n",
    "    # 绘制损失函数曲线\n",
    "    fig = plt.figure(figsize=(8,4))\n",
    "    # subplot loss\n",
    "    ax1 = fig.add_subplot(121)\n",
    "    ax1.plot(train_losses, label='train_loss')\n",
    "    ax1.plot(valid_losses,label='val_loss')\n",
    "    ax1.set_xlabel('Epochs')\n",
    "    ax1.set_ylabel('Loss')\n",
    "    ax1.set_title('Loss on Training and Validation Data')\n",
    "    ax1.legend()\n",
    "    plt.tight_layout()"
   ]
  },
  {
   "cell_type": "code",
   "execution_count": 29,
   "metadata": {
    "execution": {
     "iopub.execute_input": "2021-11-07T11:41:56.271045Z",
     "iopub.status.busy": "2021-11-07T11:41:56.270383Z",
     "iopub.status.idle": "2021-11-07T11:41:56.549178Z",
     "shell.execute_reply": "2021-11-07T11:41:56.549615Z",
     "shell.execute_reply.started": "2021-11-07T11:31:56.286373Z"
    },
    "papermill": {
     "duration": 0.611301,
     "end_time": "2021-11-07T11:41:56.549765",
     "exception": false,
     "start_time": "2021-11-07T11:41:55.938464",
     "status": "completed"
    },
    "tags": []
   },
   "outputs": [
    {
     "data": {
      "image/png": "[encoded data removed]",
      "text/plain": [
       "<Figure size 576x288 with 1 Axes>"
      ]
     },
     "metadata": {
      "needs_background": "light"
     },
     "output_type": "display_data"
    }
   ],
   "source": [
    "training_vis(train_losses, valid_losses)"
   ]
  },
  {
   "cell_type": "markdown",
   "metadata": {},
   "source": [
    "#### 模型评估\n",
    "\n",
    "在测试集上评估模型效果。"
   ]
  },
  {
   "cell_type": "code",
   "execution_count": 30,
   "metadata": {
    "execution": {
     "iopub.execute_input": "2021-11-07T11:41:57.180629Z",
     "iopub.status.busy": "2021-11-07T11:41:57.180063Z",
     "iopub.status.idle": "2021-11-07T11:41:57.544721Z",
     "shell.execute_reply": "2021-11-07T11:41:57.544233Z",
     "shell.execute_reply.started": "2021-11-07T11:31:56.594261Z"
    },
    "papermill": {
     "duration": 0.680346,
     "end_time": "2021-11-07T11:41:57.544847",
     "exception": false,
     "start_time": "2021-11-07T11:41:56.864501",
     "status": "completed"
    },
    "tags": []
   },
   "outputs": [
    {
     "data": {
      "text/plain": [
       "<All keys matched successfully>"
      ]
     },
     "execution_count": 30,
     "metadata": {},
     "output_type": "execute_result"
    }
   ],
   "source": [
    "# 加载最佳模型权重\n",
    "checkpoint = torch.load('../input/ai-earth-model-weights/task04_model_weights.pth')\n",
    "model = Model()\n",
    "model.load_state_dict(checkpoint['state_dict'])"
   ]
  },
  {
   "cell_type": "code",
   "execution_count": 31,
   "metadata": {
    "execution": {
     "iopub.execute_input": "2021-11-07T11:41:58.181883Z",
     "iopub.status.busy": "2021-11-07T11:41:58.181002Z",
     "iopub.status.idle": "2021-11-07T11:41:58.182836Z",
     "shell.execute_reply": "2021-11-07T11:41:58.183296Z",
     "shell.execute_reply.started": "2021-11-07T11:31:57.001527Z"
    },
    "papermill": {
     "duration": 0.323811,
     "end_time": "2021-11-07T11:41:58.183429",
     "exception": false,
     "start_time": "2021-11-07T11:41:57.859618",
     "status": "completed"
    },
    "tags": []
   },
   "outputs": [],
   "source": [
    "# 测试集路径\n",
    "test_path = '../input/ai-earth-tests/'\n",
    "# 测试集标签路径\n",
    "test_label_path = '../input/ai-earth-tests-labels/'"
   ]
  },
  {
   "cell_type": "code",
   "execution_count": 32,
   "metadata": {
    "execution": {
     "iopub.execute_input": "2021-11-07T11:41:58.817618Z",
     "iopub.status.busy": "2021-11-07T11:41:58.816950Z",
     "iopub.status.idle": "2021-11-07T11:42:00.269201Z",
     "shell.execute_reply": "2021-11-07T11:42:00.268643Z",
     "shell.execute_reply.started": "2021-11-07T11:31:57.010291Z"
    },
    "papermill": {
     "duration": 1.770946,
     "end_time": "2021-11-07T11:42:00.269350",
     "exception": false,
     "start_time": "2021-11-07T11:41:58.498404",
     "status": "completed"
    },
    "tags": []
   },
   "outputs": [],
   "source": [
    "import os\n",
    "\n",
    "# 读取测试数据和测试数据的标签\n",
    "files = os.listdir(test_path)\n",
    "X_test = []\n",
    "y_test = []\n",
    "for file in files:\n",
    "    X_test.append(np.load(test_path + file))\n",
    "    y_test.append(np.load(test_label_path + file))"
   ]
  },
  {
   "cell_type": "code",
   "execution_count": 33,
   "metadata": {
    "execution": {
     "iopub.execute_input": "2021-11-07T11:42:00.911046Z",
     "iopub.status.busy": "2021-11-07T11:42:00.909973Z",
     "iopub.status.idle": "2021-11-07T11:42:00.973831Z",
     "shell.execute_reply": "2021-11-07T11:42:00.973361Z",
     "shell.execute_reply.started": "2021-11-07T11:31:58.325122Z"
    },
    "papermill": {
     "duration": 0.395072,
     "end_time": "2021-11-07T11:42:00.973969",
     "exception": false,
     "start_time": "2021-11-07T11:42:00.578897",
     "status": "completed"
    },
    "tags": []
   },
   "outputs": [
    {
     "data": {
      "text/plain": [
       "((103, 12, 24, 72, 4), (103, 24))"
      ]
     },
     "execution_count": 33,
     "metadata": {},
     "output_type": "execute_result"
    }
   ],
   "source": [
    "X_test = np.array(X_test)\n",
    "y_test = np.array(y_test)\n",
    "X_test.shape, y_test.shape"
   ]
  },
  {
   "cell_type": "code",
   "execution_count": 34,
   "metadata": {
    "execution": {
     "iopub.execute_input": "2021-11-07T11:42:01.612810Z",
     "iopub.status.busy": "2021-11-07T11:42:01.611682Z",
     "iopub.status.idle": "2021-11-07T11:42:01.638035Z",
     "shell.execute_reply": "2021-11-07T11:42:01.637526Z",
     "shell.execute_reply.started": "2021-11-07T11:31:58.416006Z"
    },
    "papermill": {
     "duration": 0.3441,
     "end_time": "2021-11-07T11:42:01.638176",
     "exception": false,
     "start_time": "2021-11-07T11:42:01.294076",
     "status": "completed"
    },
    "tags": []
   },
   "outputs": [],
   "source": [
    "testset = AIEarthDataset(X_test, y_test)\n",
    "testloader = DataLoader(testset, batch_size=batch_size, shuffle=False)"
   ]
  },
  {
   "cell_type": "code",
   "execution_count": 35,
   "metadata": {
    "execution": {
     "iopub.execute_input": "2021-11-07T11:42:02.286777Z",
     "iopub.status.busy": "2021-11-07T11:42:02.285865Z",
     "iopub.status.idle": "2021-11-07T11:42:02.621942Z",
     "shell.execute_reply": "2021-11-07T11:42:02.622610Z",
     "shell.execute_reply.started": "2021-11-07T11:31:58.447987Z"
    },
    "papermill": {
     "duration": 0.666798,
     "end_time": "2021-11-07T11:42:02.622817",
     "exception": false,
     "start_time": "2021-11-07T11:42:01.956019",
     "status": "completed"
    },
    "tags": []
   },
   "outputs": [
    {
     "name": "stderr",
     "output_type": "stream",
     "text": [
      "4it [00:00, 12.75it/s]"
     ]
    },
    {
     "name": "stdout",
     "output_type": "stream",
     "text": [
      "Score: 20.274\n"
     ]
    },
    {
     "name": "stderr",
     "output_type": "stream",
     "text": [
      "\n"
     ]
    }
   ],
   "source": [
    "# 在测试集上评估模型效果\n",
    "model.eval()\n",
    "model.to(device)\n",
    "preds = np.zeros((len(y_test),24))\n",
    "for i, data in tqdm(enumerate(testloader)):\n",
    "    data, labels = data\n",
    "    data = data.to(device)\n",
    "    labels = labels.to(device)\n",
    "    pred = model(data)\n",
    "    preds[i*batch_size:(i+1)*batch_size] = pred.detach().cpu().numpy()\n",
    "s = score(y_test, preds)\n",
    "print('Score: {:.3f}'.format(s))"
   ]
  },
  {
   "cell_type": "markdown",
   "metadata": {
    "papermill": {
     "duration": 0.311337,
     "end_time": "2021-11-07T11:42:03.280397",
     "exception": false,
     "start_time": "2021-11-07T11:42:02.969060",
     "status": "completed"
    },
    "tags": []
   },
   "source": [
    "## 总结\n",
    "\n",
    "总结起来，该方案主要有以下两方面值得我们学习：\n",
    "\n",
    "- 充分考虑到数据量小、特征少的数据情况，对时间和空间分别进行卷积操作，用GAP层对提取的信息进行降维，尽可能减少每一层的参数量、增加模型层数以提取更丰富的特征。\n",
    "- 对问题背景有深刻地理解，考虑到不同时间尺度序列所携带的信息不同，用池化层变换时间尺度，并用RNN进行信息提取，综合三种不同时间尺度的序列信息得到最终的预测序列。\n",
    "\n",
    "该方案在构造模型时充分考虑了数据集情况和问题背景，并能灵活运用各种网络层来处理特定问题，这种模型构造思路要求对各种网络层的作用有较为深刻地理解。希望大家在学习该方案的时候不仅能够学习模型的构造方法，同时也能够在今后的其他任务中逐渐体会和掌握这种模型的构造思路。"
   ]
  },
  {
   "cell_type": "markdown",
   "metadata": {},
   "source": [
    "## 参考文献\n",
    "\n",
    "1. Top1思路分享：https://tianchi.aliyun.com/forum/postDetail?spm=5176.12586969.1002.6.561d482cp7CFlx&postId=210391"
   ]
  }
 ],
 "metadata": {
  "kernelspec": {
   "display_name": "Python 3",
   "language": "python",
   "name": "python3"
  },
  "language_info": {
   "codemirror_mode": {
    "name": "ipython",
    "version": 3
   },
   "file_extension": ".py",
   "mimetype": "text/x-python",
   "name": "python",
   "nbconvert_exporter": "python",
   "pygments_lexer": "ipython3",
   "version": "3.7.3"
  },
  "papermill": {
   "default_parameters": {},
   "duration": 571.585002,
   "end_time": "2021-11-07T11:42:05.308202",
   "environment_variables": {},
   "exception": null,
   "input_path": "__notebook__.ipynb",
   "output_path": "__notebook__.ipynb",
   "parameters": {},
   "start_time": "2021-11-07T11:32:33.723200",
   "version": "2.3.3"
  }
 },
 "nbformat": 4,
 "nbformat_minor": 5
}
